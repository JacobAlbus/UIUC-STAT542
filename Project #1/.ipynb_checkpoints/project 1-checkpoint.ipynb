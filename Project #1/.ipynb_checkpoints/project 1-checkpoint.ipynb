{
 "cells": [
  {
   "cell_type": "markdown",
   "id": "fe6a46d2-7ab5-40c7-a717-56b679ca576e",
   "metadata": {},
   "source": [
    "### Create plots of features vs sale price"
   ]
  },
  {
   "cell_type": "code",
   "execution_count": 40,
   "id": "771c3630-92f8-4078-9ece-032e59843476",
   "metadata": {},
   "outputs": [],
   "source": [
    "import pandas as pd\n",
    "import numpy as np\n",
    "\n",
    "data = pd.read_csv(\"data/fold1/train.csv\").fillna('None')\n",
    "data[\"Garage_Yr_Blt\"] = data[\"Garage_Yr_Blt\"].replace(\"None\", 0)\n",
    "data[\"Sale_Price\"] = np.log(data[\"Sale_Price\"])"
   ]
  },
  {
   "cell_type": "code",
   "execution_count": 42,
   "id": "300f5207-1b01-4013-b575-9b26a97ddf9e",
   "metadata": {},
   "outputs": [
    {
     "data": {
      "text/plain": [
       "<Figure size 640x480 with 0 Axes>"
      ]
     },
     "metadata": {},
     "output_type": "display_data"
    }
   ],
   "source": [
    "import matplotlib.pyplot as plt\n",
    "\n",
    "Y = data[\"Sale_Price\"]\n",
    "\n",
    "for feature in data.columns[1:]:\n",
    "    if isinstance(data[feature].iloc[0], str):\n",
    "        feature_values = data[feature].unique()\n",
    "        mean_sale_prices = []\n",
    "        for feature_value in feature_values:\n",
    "            sale_price = data[data[feature] == feature_value][\"Sale_Price\"]\n",
    "            mean_sale_prices.append(sale_price.mean())\n",
    "        plt.bar(feature_values, mean_sale_prices)\n",
    "    else:\n",
    "        plt.scatter(data[feature], Y)    \n",
    "\n",
    "    plt.savefig(f\"figures/{feature}.png\")\n",
    "    plt.clf()"
   ]
  },
  {
   "cell_type": "code",
   "execution_count": 50,
   "id": "d7cb33ce-a9bd-4162-b06f-02bdc0e24bdb",
   "metadata": {},
   "outputs": [
    {
     "name": "stdout",
     "output_type": "stream",
     "text": [
      "Wood_Deck_SF      17.370360\n",
      "Bsmt_Unf_SF       33.812496\n",
      "Mas_Vnr_Area      34.352658\n",
      "Second_Flr_SF     49.623253\n",
      "Garage_Yr_Blt     58.330521\n",
      "Garage_Area       58.664352\n",
      "First_Flr_SF     102.003180\n",
      "Total_Bsmt_SF    118.536704\n",
      "Gr_Liv_Area      150.338034\n",
      "Lot_Area         865.947859\n",
      "Name: Sale_Price, dtype: float64\n"
     ]
    }
   ],
   "source": [
    "quant_features = [\"Sale_Price\"]\n",
    "qual_features = [\"Sale_Price\"]\n",
    "for feature in data.columns[1:-1]:\n",
    "    if isinstance(data[feature].iloc[0], str):\n",
    "        qual_features.append(feature)\n",
    "    else:\n",
    "        quant_features.append(feature)    \n",
    "\n",
    "covariance = data[quant_features].cov()\n",
    "price_covariance = covariance[\"Sale_Price\"].sort_values(key=abs)\n",
    "print(price_covariance[-10:])"
   ]
  },
  {
   "cell_type": "code",
   "execution_count": 51,
   "id": "c560e657-f053-41f7-883d-cfcc3a78365f",
   "metadata": {},
   "outputs": [
    {
     "name": "stdout",
     "output_type": "stream",
     "text": [
      "Garage_Type_Attchd           0.087562\n",
      "Garage_Finish_Unf           -0.093941\n",
      "Bsmt_Qual_Typical           -0.094740\n",
      "Exter_Qual_Good              0.095448\n",
      "Heating_QC_Excellent         0.101483\n",
      "Fireplace_Qu_No_Fireplace   -0.105689\n",
      "Kitchen_Qual_Typical        -0.111815\n",
      "Foundation_PConc             0.114617\n",
      "Exter_Qual_Typical          -0.119229\n",
      "Sale_Price                   0.173599\n",
      "Name: Sale_Price, dtype: float64\n"
     ]
    }
   ],
   "source": [
    "covariance = pd.get_dummies(data[qual_features]).cov()\n",
    "price_covariance = covariance[\"Sale_Price\"].sort_values(key=abs)\n",
    "print(price_covariance[-10:])"
   ]
  },
  {
   "cell_type": "code",
   "execution_count": 58,
   "id": "f3feff3e-d11a-449d-88d9-02dffd53aca9",
   "metadata": {},
   "outputs": [
    {
     "data": {
      "text/plain": [
       "Index(['PID', 'MS_SubClass', 'MS_Zoning', 'Lot_Frontage', 'Lot_Area', 'Street',\n",
       "       'Alley', 'Lot_Shape', 'Land_Contour', 'Utilities', 'Lot_Config',\n",
       "       'Land_Slope', 'Neighborhood', 'Condition_1', 'Condition_2', 'Bldg_Type',\n",
       "       'House_Style', 'Overall_Qual', 'Overall_Cond', 'Year_Built',\n",
       "       'Year_Remod_Add', 'Roof_Style', 'Roof_Matl', 'Exterior_1st',\n",
       "       'Exterior_2nd', 'Mas_Vnr_Type', 'Mas_Vnr_Area', 'Exter_Qual',\n",
       "       'Exter_Cond', 'Foundation', 'Bsmt_Qual', 'Bsmt_Cond', 'Bsmt_Exposure',\n",
       "       'BsmtFin_Type_1', 'BsmtFin_SF_1', 'BsmtFin_Type_2', 'BsmtFin_SF_2',\n",
       "       'Bsmt_Unf_SF', 'Total_Bsmt_SF', 'Heating', 'Heating_QC', 'Central_Air',\n",
       "       'Electrical', 'First_Flr_SF', 'Second_Flr_SF', 'Low_Qual_Fin_SF',\n",
       "       'Gr_Liv_Area', 'Bsmt_Full_Bath', 'Bsmt_Half_Bath', 'Full_Bath',\n",
       "       'Half_Bath', 'Bedroom_AbvGr', 'Kitchen_AbvGr', 'Kitchen_Qual',\n",
       "       'TotRms_AbvGrd', 'Functional', 'Fireplaces', 'Fireplace_Qu',\n",
       "       'Garage_Type', 'Garage_Yr_Blt', 'Garage_Finish', 'Garage_Cars',\n",
       "       'Garage_Area', 'Garage_Qual', 'Garage_Cond', 'Paved_Drive',\n",
       "       'Wood_Deck_SF', 'Open_Porch_SF', 'Enclosed_Porch', 'Three_season_porch',\n",
       "       'Screen_Porch', 'Pool_Area', 'Pool_QC', 'Fence', 'Misc_Feature',\n",
       "       'Misc_Val', 'Mo_Sold', 'Year_Sold', 'Sale_Type', 'Sale_Condition',\n",
       "       'Longitude', 'Latitude', 'Sale_Price'],\n",
       "      dtype='object')"
      ]
     },
     "execution_count": 58,
     "metadata": {},
     "output_type": "execute_result"
    }
   ],
   "source": [
    "data.columns"
   ]
  },
  {
   "cell_type": "code",
   "execution_count": 60,
   "id": "60823dd8-fbd1-4ca1-a0c0-79b9cabb4136",
   "metadata": {},
   "outputs": [
    {
     "data": {
      "text/plain": [
       "(896, 896, 0, 882)"
      ]
     },
     "execution_count": 60,
     "metadata": {},
     "output_type": "execute_result"
    }
   ],
   "source": [
    "for i in range(data.shape[0]):\n",
    "    area = data.iloc[0][\"Gr_Liv_Area\"] - data.iloc[0][\"First_Flr_SF\"] - data.iloc[0][\"Second_Flr_SF\"]\n",
    "    if area != 0:\n",
    "        print(area, i)\n",
    "\n",
    "data.iloc[0][\"Gr_Liv_Area\"], data.iloc[0][\"First_Flr_SF\"], data.iloc[0][\"Second_Flr_SF\"], data.iloc[0][\"Total_Bsmt_SF\"]"
   ]
  },
  {
   "cell_type": "code",
   "execution_count": 132,
   "id": "09e8ead3-88c3-4b15-964c-f75395cf5e1e",
   "metadata": {},
   "outputs": [],
   "source": [
    "def preprocess_features(data, train_columns=None):\n",
    "    # Some values in Mas_Vnr_Type and Misc_feature have a Nan float value instead of just a \"None\" string\n",
    "    data = data.fillna('None')\n",
    "    # Some homes don't have garages so replace their \"None\" string with 0\n",
    "    data[\"Garage_Yr_Blt\"] = data[\"Garage_Yr_Blt\"].replace(\"None\", 0)\n",
    "\n",
    "    # Selected qualitative features\n",
    "    best_features = list(data.columns)[1:-1]\n",
    "    data = data[best_features]\n",
    "    \n",
    "    # best_features = [\"Exter_Qual\", \"Foundation\", \"Kitchen_Qual\", \"Fireplace_Qu\", \n",
    "    #                  \"Heating_QC\", \"Bsmt_Qual\"]\n",
    "    # # Selected quantitative features\n",
    "    # best_features.extend([\"Wood_Deck_SF\", \"Bsmt_Unf_SF\", \"Mas_Vnr_Area\", \"Second_Flr_SF\", \"Garage_Yr_Blt\", \n",
    "    #                        \"Garage_Area\", \"First_Flr_SF\", \"Total_Bsmt_SF\", \"Gr_Liv_Area\", \"Lot_Area\"])\n",
    "\n",
    "    # Numerical encoding for ordinal features\n",
    "    ordinal_features = [\"Lot_Shape\", \"Utilities\", \"Land_Slope\", \"Overall_Qual\", \"Overall_Cond\", \"Exter_Qual\", \"Exter_Cond\", \n",
    "                        \"Bsmt_Qual\", \"Bsmt_Cond\", \"Bsmt_Exposure\", \"BsmtFin_Type_1\", \"BsmtFin_Type_2\", \"Heating_QC\", \n",
    "                        \"Electrical\", \"Kitchen_Qual\", \"Functional\", \"Fireplace_Qu\", \"Garage_Finish\", \"Garage_Qual\", \n",
    "                        \"Garage_Cond\", \"Paved_Drive\", \"Pool_QC\", \"Fence\"]\n",
    "    \n",
    "    for feature in ordinal_features:\n",
    "        data[feature] = pd.factorize(data[feature])[0] + 1\n",
    "\n",
    "    try:\n",
    "        y = np.log(data[\"Sale_Price\"])\n",
    "    except KeyError:\n",
    "        y = None\n",
    "\n",
    "    # One hot encoding of nominal features\n",
    "    X = pd.get_dummies(data[best_features])\n",
    "\n",
    "    # Handle column mismatch from one hot encoding\n",
    "    if train_columns is not None:\n",
    "        missing_columns = set(train_columns) - set(X.columns)\n",
    "        for column in missing_columns:\n",
    "            X[column] = 0\n",
    "        # Ensure the order of column in the test set is in the same order than in train set\n",
    "        X = X[train_columns]\n",
    "\n",
    "    return X, y"
   ]
  },
  {
   "cell_type": "code",
   "execution_count": 133,
   "id": "bcdeb7b2-b5b0-42e2-b0b4-3c3e3184312d",
   "metadata": {},
   "outputs": [],
   "source": [
    "import sys\n",
    "\n",
    "def xgb_cross_validate(X, y, folds):\n",
    "\n",
    "    n = X.shape[0]\n",
    "    fold_size = n // folds\n",
    "    \n",
    "    min_error = sys.maxsize\n",
    "    best_eta = -1\n",
    "    best_T = -1\n",
    "\n",
    "    for eta in np.arange(0.05, 0.5, 0.05):\n",
    "        for T in np.arange(5, 50, 5):\n",
    "            # print(eta, T)\n",
    "            average_error = 0\n",
    "            for i in range(folds):\n",
    "                start = i * fold_size\n",
    "                end = (i + 1) * fold_size\n",
    "                \n",
    "                X_holdout = X[start:end]\n",
    "                X_train = np.concatenate([X[end:], X[:start]])\n",
    "                y_holdout = y[start:end]\n",
    "                y_train = np.concatenate([y[end:],y[:start]])\n",
    "\n",
    "                clf = xgb.XGBRegressor(n_estimators=T, learning_rate=eta)\n",
    "                clf.fit(X_train, y_train)\n",
    "                yhat = np.log(clf.predict(X_holdout))\n",
    "                \n",
    "                error = np.mean((y_holdout - yhat)**2)**(0.5)\n",
    "                average_error = ((average_error * i) + error) / (i + 1)\n",
    "            \n",
    "            if average_error <= min_error:\n",
    "                min_error = average_error\n",
    "                best_eta = eta\n",
    "                best_T = T\n",
    "    \n",
    "    return best_eta, best_T"
   ]
  },
  {
   "cell_type": "code",
   "execution_count": 134,
   "id": "1b249ad0-bacd-40db-b40a-fac81283a2cc",
   "metadata": {},
   "outputs": [
    {
     "name": "stdout",
     "output_type": "stream",
     "text": [
      "(2051, 81)\n",
      "(2051, 242)\n"
     ]
    }
   ],
   "source": [
    "X_train, y_train = preprocess_features(pd.read_csv(f\"data/fold1/train.csv\"))"
   ]
  },
  {
   "cell_type": "code",
   "execution_count": 119,
   "id": "bdb0c712-c260-49a5-a928-ba38d1a0c509",
   "metadata": {},
   "outputs": [
    {
     "name": "stdout",
     "output_type": "stream",
     "text": [
      "RMSE for fold_1: 1.9476993913508254 0.05 5000\n"
     ]
    },
    {
     "ename": "KeyboardInterrupt",
     "evalue": "",
     "output_type": "error",
     "traceback": [
      "\u001b[1;31m---------------------------------------------------------------------------\u001b[0m",
      "\u001b[1;31mKeyboardInterrupt\u001b[0m                         Traceback (most recent call last)",
      "Cell \u001b[1;32mIn[119], line 15\u001b[0m\n\u001b[0;32m     12\u001b[0m y_test \u001b[38;5;241m=\u001b[39m np\u001b[38;5;241m.\u001b[39mlog(y_test)\n\u001b[0;32m     14\u001b[0m clf \u001b[38;5;241m=\u001b[39m xgb\u001b[38;5;241m.\u001b[39mXGBRegressor(n_estimators\u001b[38;5;241m=\u001b[39mcv_T, learning_rate\u001b[38;5;241m=\u001b[39mcv_eta, max_depth\u001b[38;5;241m=\u001b[39m\u001b[38;5;241m6\u001b[39m, subsample\u001b[38;5;241m=\u001b[39m\u001b[38;5;241m0.5\u001b[39m)\n\u001b[1;32m---> 15\u001b[0m \u001b[43mclf\u001b[49m\u001b[38;5;241;43m.\u001b[39;49m\u001b[43mfit\u001b[49m\u001b[43m(\u001b[49m\u001b[43mX_train\u001b[49m\u001b[43m,\u001b[49m\u001b[43m \u001b[49m\u001b[43my_train\u001b[49m\u001b[43m)\u001b[49m\n\u001b[0;32m     16\u001b[0m yhat \u001b[38;5;241m=\u001b[39m clf\u001b[38;5;241m.\u001b[39mpredict(X_test)\n\u001b[0;32m     18\u001b[0m residuals \u001b[38;5;241m=\u001b[39m np\u001b[38;5;241m.\u001b[39mmean((y_test \u001b[38;5;241m-\u001b[39m yhat)\u001b[38;5;241m*\u001b[39m\u001b[38;5;241m*\u001b[39m\u001b[38;5;241m2\u001b[39m)\u001b[38;5;241m*\u001b[39m\u001b[38;5;241m*\u001b[39m(\u001b[38;5;241m0.5\u001b[39m)\n",
      "File \u001b[1;32m~\\AppData\\Local\\Programs\\Python\\Python311\\Lib\\site-packages\\xgboost\\core.py:729\u001b[0m, in \u001b[0;36mrequire_keyword_args.<locals>.throw_if.<locals>.inner_f\u001b[1;34m(*args, **kwargs)\u001b[0m\n\u001b[0;32m    727\u001b[0m \u001b[38;5;28;01mfor\u001b[39;00m k, arg \u001b[38;5;129;01min\u001b[39;00m \u001b[38;5;28mzip\u001b[39m(sig\u001b[38;5;241m.\u001b[39mparameters, args):\n\u001b[0;32m    728\u001b[0m     kwargs[k] \u001b[38;5;241m=\u001b[39m arg\n\u001b[1;32m--> 729\u001b[0m \u001b[38;5;28;01mreturn\u001b[39;00m \u001b[43mfunc\u001b[49m\u001b[43m(\u001b[49m\u001b[38;5;241;43m*\u001b[39;49m\u001b[38;5;241;43m*\u001b[39;49m\u001b[43mkwargs\u001b[49m\u001b[43m)\u001b[49m\n",
      "File \u001b[1;32m~\\AppData\\Local\\Programs\\Python\\Python311\\Lib\\site-packages\\xgboost\\sklearn.py:1086\u001b[0m, in \u001b[0;36mXGBModel.fit\u001b[1;34m(self, X, y, sample_weight, base_margin, eval_set, eval_metric, early_stopping_rounds, verbose, xgb_model, sample_weight_eval_set, base_margin_eval_set, feature_weights, callbacks)\u001b[0m\n\u001b[0;32m   1075\u001b[0m     obj \u001b[38;5;241m=\u001b[39m \u001b[38;5;28;01mNone\u001b[39;00m\n\u001b[0;32m   1077\u001b[0m (\n\u001b[0;32m   1078\u001b[0m     model,\n\u001b[0;32m   1079\u001b[0m     metric,\n\u001b[1;32m   (...)\u001b[0m\n\u001b[0;32m   1084\u001b[0m     xgb_model, eval_metric, params, early_stopping_rounds, callbacks\n\u001b[0;32m   1085\u001b[0m )\n\u001b[1;32m-> 1086\u001b[0m \u001b[38;5;28mself\u001b[39m\u001b[38;5;241m.\u001b[39m_Booster \u001b[38;5;241m=\u001b[39m \u001b[43mtrain\u001b[49m\u001b[43m(\u001b[49m\n\u001b[0;32m   1087\u001b[0m \u001b[43m    \u001b[49m\u001b[43mparams\u001b[49m\u001b[43m,\u001b[49m\n\u001b[0;32m   1088\u001b[0m \u001b[43m    \u001b[49m\u001b[43mtrain_dmatrix\u001b[49m\u001b[43m,\u001b[49m\n\u001b[0;32m   1089\u001b[0m \u001b[43m    \u001b[49m\u001b[38;5;28;43mself\u001b[39;49m\u001b[38;5;241;43m.\u001b[39;49m\u001b[43mget_num_boosting_rounds\u001b[49m\u001b[43m(\u001b[49m\u001b[43m)\u001b[49m\u001b[43m,\u001b[49m\n\u001b[0;32m   1090\u001b[0m \u001b[43m    \u001b[49m\u001b[43mevals\u001b[49m\u001b[38;5;241;43m=\u001b[39;49m\u001b[43mevals\u001b[49m\u001b[43m,\u001b[49m\n\u001b[0;32m   1091\u001b[0m \u001b[43m    \u001b[49m\u001b[43mearly_stopping_rounds\u001b[49m\u001b[38;5;241;43m=\u001b[39;49m\u001b[43mearly_stopping_rounds\u001b[49m\u001b[43m,\u001b[49m\n\u001b[0;32m   1092\u001b[0m \u001b[43m    \u001b[49m\u001b[43mevals_result\u001b[49m\u001b[38;5;241;43m=\u001b[39;49m\u001b[43mevals_result\u001b[49m\u001b[43m,\u001b[49m\n\u001b[0;32m   1093\u001b[0m \u001b[43m    \u001b[49m\u001b[43mobj\u001b[49m\u001b[38;5;241;43m=\u001b[39;49m\u001b[43mobj\u001b[49m\u001b[43m,\u001b[49m\n\u001b[0;32m   1094\u001b[0m \u001b[43m    \u001b[49m\u001b[43mcustom_metric\u001b[49m\u001b[38;5;241;43m=\u001b[39;49m\u001b[43mmetric\u001b[49m\u001b[43m,\u001b[49m\n\u001b[0;32m   1095\u001b[0m \u001b[43m    \u001b[49m\u001b[43mverbose_eval\u001b[49m\u001b[38;5;241;43m=\u001b[39;49m\u001b[43mverbose\u001b[49m\u001b[43m,\u001b[49m\n\u001b[0;32m   1096\u001b[0m \u001b[43m    \u001b[49m\u001b[43mxgb_model\u001b[49m\u001b[38;5;241;43m=\u001b[39;49m\u001b[43mmodel\u001b[49m\u001b[43m,\u001b[49m\n\u001b[0;32m   1097\u001b[0m \u001b[43m    \u001b[49m\u001b[43mcallbacks\u001b[49m\u001b[38;5;241;43m=\u001b[39;49m\u001b[43mcallbacks\u001b[49m\u001b[43m,\u001b[49m\n\u001b[0;32m   1098\u001b[0m \u001b[43m\u001b[49m\u001b[43m)\u001b[49m\n\u001b[0;32m   1100\u001b[0m \u001b[38;5;28mself\u001b[39m\u001b[38;5;241m.\u001b[39m_set_evaluation_result(evals_result)\n\u001b[0;32m   1101\u001b[0m \u001b[38;5;28;01mreturn\u001b[39;00m \u001b[38;5;28mself\u001b[39m\n",
      "File \u001b[1;32m~\\AppData\\Local\\Programs\\Python\\Python311\\Lib\\site-packages\\xgboost\\core.py:729\u001b[0m, in \u001b[0;36mrequire_keyword_args.<locals>.throw_if.<locals>.inner_f\u001b[1;34m(*args, **kwargs)\u001b[0m\n\u001b[0;32m    727\u001b[0m \u001b[38;5;28;01mfor\u001b[39;00m k, arg \u001b[38;5;129;01min\u001b[39;00m \u001b[38;5;28mzip\u001b[39m(sig\u001b[38;5;241m.\u001b[39mparameters, args):\n\u001b[0;32m    728\u001b[0m     kwargs[k] \u001b[38;5;241m=\u001b[39m arg\n\u001b[1;32m--> 729\u001b[0m \u001b[38;5;28;01mreturn\u001b[39;00m \u001b[43mfunc\u001b[49m\u001b[43m(\u001b[49m\u001b[38;5;241;43m*\u001b[39;49m\u001b[38;5;241;43m*\u001b[39;49m\u001b[43mkwargs\u001b[49m\u001b[43m)\u001b[49m\n",
      "File \u001b[1;32m~\\AppData\\Local\\Programs\\Python\\Python311\\Lib\\site-packages\\xgboost\\training.py:181\u001b[0m, in \u001b[0;36mtrain\u001b[1;34m(params, dtrain, num_boost_round, evals, obj, feval, maximize, early_stopping_rounds, evals_result, verbose_eval, xgb_model, callbacks, custom_metric)\u001b[0m\n\u001b[0;32m    179\u001b[0m \u001b[38;5;28;01mif\u001b[39;00m cb_container\u001b[38;5;241m.\u001b[39mbefore_iteration(bst, i, dtrain, evals):\n\u001b[0;32m    180\u001b[0m     \u001b[38;5;28;01mbreak\u001b[39;00m\n\u001b[1;32m--> 181\u001b[0m \u001b[43mbst\u001b[49m\u001b[38;5;241;43m.\u001b[39;49m\u001b[43mupdate\u001b[49m\u001b[43m(\u001b[49m\u001b[43mdtrain\u001b[49m\u001b[43m,\u001b[49m\u001b[43m \u001b[49m\u001b[43mi\u001b[49m\u001b[43m,\u001b[49m\u001b[43m \u001b[49m\u001b[43mobj\u001b[49m\u001b[43m)\u001b[49m\n\u001b[0;32m    182\u001b[0m \u001b[38;5;28;01mif\u001b[39;00m cb_container\u001b[38;5;241m.\u001b[39mafter_iteration(bst, i, dtrain, evals):\n\u001b[0;32m    183\u001b[0m     \u001b[38;5;28;01mbreak\u001b[39;00m\n",
      "File \u001b[1;32m~\\AppData\\Local\\Programs\\Python\\Python311\\Lib\\site-packages\\xgboost\\core.py:2046\u001b[0m, in \u001b[0;36mBooster.update\u001b[1;34m(self, dtrain, iteration, fobj)\u001b[0m\n\u001b[0;32m   2044\u001b[0m \u001b[38;5;28;01mif\u001b[39;00m \u001b[38;5;129;01mnot\u001b[39;00m \u001b[38;5;28misinstance\u001b[39m(dtrain, DMatrix):\n\u001b[0;32m   2045\u001b[0m     \u001b[38;5;28;01mraise\u001b[39;00m \u001b[38;5;167;01mTypeError\u001b[39;00m(\u001b[38;5;124mf\u001b[39m\u001b[38;5;124m\"\u001b[39m\u001b[38;5;124minvalid training matrix: \u001b[39m\u001b[38;5;132;01m{\u001b[39;00m\u001b[38;5;28mtype\u001b[39m(dtrain)\u001b[38;5;241m.\u001b[39m\u001b[38;5;18m__name__\u001b[39m\u001b[38;5;132;01m}\u001b[39;00m\u001b[38;5;124m\"\u001b[39m)\n\u001b[1;32m-> 2046\u001b[0m \u001b[38;5;28;43mself\u001b[39;49m\u001b[38;5;241;43m.\u001b[39;49m\u001b[43m_assign_dmatrix_features\u001b[49m\u001b[43m(\u001b[49m\u001b[43mdtrain\u001b[49m\u001b[43m)\u001b[49m\n\u001b[0;32m   2048\u001b[0m \u001b[38;5;28;01mif\u001b[39;00m fobj \u001b[38;5;129;01mis\u001b[39;00m \u001b[38;5;28;01mNone\u001b[39;00m:\n\u001b[0;32m   2049\u001b[0m     _check_call(\n\u001b[0;32m   2050\u001b[0m         _LIB\u001b[38;5;241m.\u001b[39mXGBoosterUpdateOneIter(\n\u001b[0;32m   2051\u001b[0m             \u001b[38;5;28mself\u001b[39m\u001b[38;5;241m.\u001b[39mhandle, ctypes\u001b[38;5;241m.\u001b[39mc_int(iteration), dtrain\u001b[38;5;241m.\u001b[39mhandle\n\u001b[0;32m   2052\u001b[0m         )\n\u001b[0;32m   2053\u001b[0m     )\n",
      "File \u001b[1;32m~\\AppData\\Local\\Programs\\Python\\Python311\\Lib\\site-packages\\xgboost\\core.py:2928\u001b[0m, in \u001b[0;36mBooster._assign_dmatrix_features\u001b[1;34m(self, data)\u001b[0m\n\u001b[0;32m   2925\u001b[0m fn \u001b[38;5;241m=\u001b[39m data\u001b[38;5;241m.\u001b[39mfeature_names\n\u001b[0;32m   2926\u001b[0m ft \u001b[38;5;241m=\u001b[39m data\u001b[38;5;241m.\u001b[39mfeature_types\n\u001b[1;32m-> 2928\u001b[0m \u001b[38;5;28;01mif\u001b[39;00m \u001b[38;5;28;43mself\u001b[39;49m\u001b[38;5;241;43m.\u001b[39;49m\u001b[43mfeature_names\u001b[49m \u001b[38;5;129;01mis\u001b[39;00m \u001b[38;5;28;01mNone\u001b[39;00m:\n\u001b[0;32m   2929\u001b[0m     \u001b[38;5;28mself\u001b[39m\u001b[38;5;241m.\u001b[39mfeature_names \u001b[38;5;241m=\u001b[39m fn\n\u001b[0;32m   2930\u001b[0m \u001b[38;5;28;01mif\u001b[39;00m \u001b[38;5;28mself\u001b[39m\u001b[38;5;241m.\u001b[39mfeature_types \u001b[38;5;129;01mis\u001b[39;00m \u001b[38;5;28;01mNone\u001b[39;00m:\n",
      "File \u001b[1;32m~\\AppData\\Local\\Programs\\Python\\Python311\\Lib\\site-packages\\xgboost\\core.py:1996\u001b[0m, in \u001b[0;36mBooster.feature_names\u001b[1;34m(self)\u001b[0m\n\u001b[0;32m   1990\u001b[0m \u001b[38;5;129m@property\u001b[39m\n\u001b[0;32m   1991\u001b[0m \u001b[38;5;28;01mdef\u001b[39;00m \u001b[38;5;21mfeature_names\u001b[39m(\u001b[38;5;28mself\u001b[39m) \u001b[38;5;241m-\u001b[39m\u001b[38;5;241m>\u001b[39m Optional[FeatureNames]:\n\u001b[0;32m   1992\u001b[0m \u001b[38;5;250m    \u001b[39m\u001b[38;5;124;03m\"\"\"Feature names for this booster.  Can be directly set by input data or by\u001b[39;00m\n\u001b[0;32m   1993\u001b[0m \u001b[38;5;124;03m    assignment.\u001b[39;00m\n\u001b[0;32m   1994\u001b[0m \n\u001b[0;32m   1995\u001b[0m \u001b[38;5;124;03m    \"\"\"\u001b[39;00m\n\u001b[1;32m-> 1996\u001b[0m     \u001b[38;5;28;01mreturn\u001b[39;00m \u001b[38;5;28;43mself\u001b[39;49m\u001b[38;5;241;43m.\u001b[39;49m\u001b[43m_get_feature_info\u001b[49m\u001b[43m(\u001b[49m\u001b[38;5;124;43m\"\u001b[39;49m\u001b[38;5;124;43mfeature_name\u001b[39;49m\u001b[38;5;124;43m\"\u001b[39;49m\u001b[43m)\u001b[49m\n",
      "File \u001b[1;32m~\\AppData\\Local\\Programs\\Python\\Python311\\Lib\\site-packages\\xgboost\\core.py:1946\u001b[0m, in \u001b[0;36mBooster._get_feature_info\u001b[1;34m(self, field)\u001b[0m\n\u001b[0;32m   1943\u001b[0m \u001b[38;5;28;01mif\u001b[39;00m \u001b[38;5;129;01mnot\u001b[39;00m \u001b[38;5;28mhasattr\u001b[39m(\u001b[38;5;28mself\u001b[39m, \u001b[38;5;124m\"\u001b[39m\u001b[38;5;124mhandle\u001b[39m\u001b[38;5;124m\"\u001b[39m) \u001b[38;5;129;01mor\u001b[39;00m \u001b[38;5;28mself\u001b[39m\u001b[38;5;241m.\u001b[39mhandle \u001b[38;5;129;01mis\u001b[39;00m \u001b[38;5;28;01mNone\u001b[39;00m:\n\u001b[0;32m   1944\u001b[0m     \u001b[38;5;28;01mreturn\u001b[39;00m \u001b[38;5;28;01mNone\u001b[39;00m\n\u001b[0;32m   1945\u001b[0m _check_call(\n\u001b[1;32m-> 1946\u001b[0m     \u001b[43m_LIB\u001b[49m\u001b[38;5;241;43m.\u001b[39;49m\u001b[43mXGBoosterGetStrFeatureInfo\u001b[49m\u001b[43m(\u001b[49m\n\u001b[0;32m   1947\u001b[0m \u001b[43m        \u001b[49m\u001b[38;5;28;43mself\u001b[39;49m\u001b[38;5;241;43m.\u001b[39;49m\u001b[43mhandle\u001b[49m\u001b[43m,\u001b[49m\n\u001b[0;32m   1948\u001b[0m \u001b[43m        \u001b[49m\u001b[43mc_str\u001b[49m\u001b[43m(\u001b[49m\u001b[43mfield\u001b[49m\u001b[43m)\u001b[49m\u001b[43m,\u001b[49m\n\u001b[0;32m   1949\u001b[0m \u001b[43m        \u001b[49m\u001b[43mctypes\u001b[49m\u001b[38;5;241;43m.\u001b[39;49m\u001b[43mbyref\u001b[49m\u001b[43m(\u001b[49m\u001b[43mlength\u001b[49m\u001b[43m)\u001b[49m\u001b[43m,\u001b[49m\n\u001b[0;32m   1950\u001b[0m \u001b[43m        \u001b[49m\u001b[43mctypes\u001b[49m\u001b[38;5;241;43m.\u001b[39;49m\u001b[43mbyref\u001b[49m\u001b[43m(\u001b[49m\u001b[43msarr\u001b[49m\u001b[43m)\u001b[49m\u001b[43m,\u001b[49m\n\u001b[0;32m   1951\u001b[0m \u001b[43m    \u001b[49m\u001b[43m)\u001b[49m\n\u001b[0;32m   1952\u001b[0m )\n\u001b[0;32m   1953\u001b[0m feature_info \u001b[38;5;241m=\u001b[39m from_cstr_to_pystr(sarr, length)\n\u001b[0;32m   1954\u001b[0m \u001b[38;5;28;01mreturn\u001b[39;00m feature_info \u001b[38;5;28;01mif\u001b[39;00m feature_info \u001b[38;5;28;01melse\u001b[39;00m \u001b[38;5;28;01mNone\u001b[39;00m\n",
      "\u001b[1;31mKeyboardInterrupt\u001b[0m: "
     ]
    }
   ],
   "source": [
    "import xgboost as xgb\n",
    "\n",
    "for i in range(1, 11):\n",
    "    X_train, y_train = preprocess_features(pd.read_csv(f\"data/fold{i}/train.csv\"))\n",
    "    \n",
    "    # cv_eta, cv_T = xgb_cross_validate(X_train, y_train, folds=10)\n",
    "    cv_eta = 0.05\n",
    "    cv_T = 5000\n",
    "    \n",
    "    X_test, _ = preprocess_features(pd.read_csv(f\"data/fold{i}/test.csv\"), X_train.columns)\n",
    "    y_test = pd.read_csv(f\"data/fold{i}/test_y.csv\")[\"Sale_Price\"]\n",
    "    y_test = np.log(y_test)\n",
    "    \n",
    "    clf = xgb.XGBRegressor(n_estimators=cv_T, learning_rate=cv_eta, max_depth=6, subsample=0.5)\n",
    "    clf.fit(X_train, y_train)\n",
    "    yhat = clf.predict(X_test)\n",
    "    \n",
    "    residuals = np.mean((y_test - yhat)**2)**(0.5)\n",
    "    print(f\"RMSE for fold_{i}:\", residuals, cv_eta, cv_T)"
   ]
  },
  {
   "cell_type": "code",
   "execution_count": 108,
   "id": "246a0929-7622-4c58-88de-24c47ebbacac",
   "metadata": {},
   "outputs": [
    {
     "name": "stdout",
     "output_type": "stream",
     "text": [
      "RMSE for fold_1: 0.16210725803745887 0.3 150\n",
      "RMSE for fold_2: 0.168859099531669 0.3 150\n",
      "RMSE for fold_3: 0.16286485466477077 0.3 150\n",
      "RMSE for fold_4: 0.1606546545352474 0.3 150\n",
      "RMSE for fold_5: 0.15361264968178692 0.3 150\n",
      "RMSE for fold_6: 0.16810779749569368 0.3 150\n",
      "RMSE for fold_7: 0.17242689407043624 0.3 150\n",
      "RMSE for fold_8: 0.16889046913998676 0.3 150\n",
      "RMSE for fold_9: 0.16724131718413415 0.3 150\n",
      "RMSE for fold_10: 0.16529680826072268 0.3 150\n"
     ]
    }
   ],
   "source": [
    "import xgboost as xgb\n",
    "\n",
    "for i in range(1, 11):\n",
    "    X_train, y_train = preprocess_features(pd.read_csv(f\"data/fold{i}/train.csv\"))\n",
    "    \n",
    "    # cv_eta, cv_T = xgb_cross_validate(X_train, y_train, folds=10)\n",
    "    cv_eta = 0.3\n",
    "    cv_T = 150\n",
    "    \n",
    "    X_test, _ = preprocess_features(pd.read_csv(f\"data/fold{i}/test.csv\"), X_train.columns)\n",
    "    y_test = pd.read_csv(f\"data/fold{i}/test_y.csv\")[\"Sale_Price\"]\n",
    "    y_test = np.log(y_test)\n",
    "\n",
    "    clf = xgb.XGBRegressor(n_estimators=cv_T, learning_rate=cv_eta)\n",
    "    clf.fit(X_train, y_train)\n",
    "    yhat = clf.predict(X_test)\n",
    "    \n",
    "    residuals = np.mean((y_test - yhat)**2)**(0.5)\n",
    "\n",
    "    print(f\"RMSE for fold_{i}:\", residuals, cv_eta, cv_T)"
   ]
  }
 ],
 "metadata": {
  "kernelspec": {
   "display_name": "Python 3 (ipykernel)",
   "language": "python",
   "name": "python3"
  },
  "language_info": {
   "codemirror_mode": {
    "name": "ipython",
    "version": 3
   },
   "file_extension": ".py",
   "mimetype": "text/x-python",
   "name": "python",
   "nbconvert_exporter": "python",
   "pygments_lexer": "ipython3",
   "version": "3.11.3"
  }
 },
 "nbformat": 4,
 "nbformat_minor": 5
}
