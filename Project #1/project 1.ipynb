{
 "cells": [
  {
   "cell_type": "markdown",
   "id": "fe6a46d2-7ab5-40c7-a717-56b679ca576e",
   "metadata": {},
   "source": [
    "### Create plots of features vs sale price"
   ]
  },
  {
   "cell_type": "code",
   "execution_count": 40,
   "id": "771c3630-92f8-4078-9ece-032e59843476",
   "metadata": {},
   "outputs": [],
   "source": [
    "import pandas as pd\n",
    "import numpy as np\n",
    "\n",
    "data = pd.read_csv(\"data/fold1/train.csv\").fillna('None')\n",
    "data[\"Garage_Yr_Blt\"] = data[\"Garage_Yr_Blt\"].replace(\"None\", 0)\n",
    "data[\"Sale_Price\"] = np.log(data[\"Sale_Price\"])"
   ]
  },
  {
   "cell_type": "code",
   "execution_count": 42,
   "id": "300f5207-1b01-4013-b575-9b26a97ddf9e",
   "metadata": {},
   "outputs": [
    {
     "data": {
      "text/plain": [
       "<Figure size 640x480 with 0 Axes>"
      ]
     },
     "metadata": {},
     "output_type": "display_data"
    }
   ],
   "source": [
    "import matplotlib.pyplot as plt\n",
    "\n",
    "Y = data[\"Sale_Price\"]\n",
    "\n",
    "for feature in data.columns[1:]:\n",
    "    if isinstance(data[feature].iloc[0], str):\n",
    "        feature_values = data[feature].unique()\n",
    "        mean_sale_prices = []\n",
    "        for feature_value in feature_values:\n",
    "            sale_price = data[data[feature] == feature_value][\"Sale_Price\"]\n",
    "            mean_sale_prices.append(sale_price.mean())\n",
    "        plt.bar(feature_values, mean_sale_prices)\n",
    "    else:\n",
    "        plt.scatter(data[feature], Y)    \n",
    "\n",
    "    plt.savefig(f\"figures/{feature}.png\")\n",
    "    plt.clf()"
   ]
  },
  {
   "cell_type": "code",
   "execution_count": 50,
   "id": "d7cb33ce-a9bd-4162-b06f-02bdc0e24bdb",
   "metadata": {},
   "outputs": [
    {
     "name": "stdout",
     "output_type": "stream",
     "text": [
      "Wood_Deck_SF      17.370360\n",
      "Bsmt_Unf_SF       33.812496\n",
      "Mas_Vnr_Area      34.352658\n",
      "Second_Flr_SF     49.623253\n",
      "Garage_Yr_Blt     58.330521\n",
      "Garage_Area       58.664352\n",
      "First_Flr_SF     102.003180\n",
      "Total_Bsmt_SF    118.536704\n",
      "Gr_Liv_Area      150.338034\n",
      "Lot_Area         865.947859\n",
      "Name: Sale_Price, dtype: float64\n"
     ]
    }
   ],
   "source": [
    "quant_features = [\"Sale_Price\"]\n",
    "qual_features = [\"Sale_Price\"]\n",
    "for feature in data.columns[1:-1]:\n",
    "    if isinstance(data[feature].iloc[0], str):\n",
    "        qual_features.append(feature)\n",
    "    else:\n",
    "        quant_features.append(feature)    \n",
    "\n",
    "covariance = data[quant_features].cov()\n",
    "price_covariance = covariance[\"Sale_Price\"].sort_values(key=abs)\n",
    "print(price_covariance[-10:])"
   ]
  },
  {
   "cell_type": "code",
   "execution_count": 51,
   "id": "c560e657-f053-41f7-883d-cfcc3a78365f",
   "metadata": {},
   "outputs": [
    {
     "name": "stdout",
     "output_type": "stream",
     "text": [
      "Garage_Type_Attchd           0.087562\n",
      "Garage_Finish_Unf           -0.093941\n",
      "Bsmt_Qual_Typical           -0.094740\n",
      "Exter_Qual_Good              0.095448\n",
      "Heating_QC_Excellent         0.101483\n",
      "Fireplace_Qu_No_Fireplace   -0.105689\n",
      "Kitchen_Qual_Typical        -0.111815\n",
      "Foundation_PConc             0.114617\n",
      "Exter_Qual_Typical          -0.119229\n",
      "Sale_Price                   0.173599\n",
      "Name: Sale_Price, dtype: float64\n"
     ]
    }
   ],
   "source": [
    "covariance = pd.get_dummies(data[qual_features]).cov()\n",
    "price_covariance = covariance[\"Sale_Price\"].sort_values(key=abs)\n",
    "print(price_covariance[-10:])"
   ]
  },
  {
   "cell_type": "code",
   "execution_count": 58,
   "id": "f3feff3e-d11a-449d-88d9-02dffd53aca9",
   "metadata": {},
   "outputs": [
    {
     "data": {
      "text/plain": [
       "Index(['PID', 'MS_SubClass', 'MS_Zoning', 'Lot_Frontage', 'Lot_Area', 'Street',\n",
       "       'Alley', 'Lot_Shape', 'Land_Contour', 'Utilities', 'Lot_Config',\n",
       "       'Land_Slope', 'Neighborhood', 'Condition_1', 'Condition_2', 'Bldg_Type',\n",
       "       'House_Style', 'Overall_Qual', 'Overall_Cond', 'Year_Built',\n",
       "       'Year_Remod_Add', 'Roof_Style', 'Roof_Matl', 'Exterior_1st',\n",
       "       'Exterior_2nd', 'Mas_Vnr_Type', 'Mas_Vnr_Area', 'Exter_Qual',\n",
       "       'Exter_Cond', 'Foundation', 'Bsmt_Qual', 'Bsmt_Cond', 'Bsmt_Exposure',\n",
       "       'BsmtFin_Type_1', 'BsmtFin_SF_1', 'BsmtFin_Type_2', 'BsmtFin_SF_2',\n",
       "       'Bsmt_Unf_SF', 'Total_Bsmt_SF', 'Heating', 'Heating_QC', 'Central_Air',\n",
       "       'Electrical', 'First_Flr_SF', 'Second_Flr_SF', 'Low_Qual_Fin_SF',\n",
       "       'Gr_Liv_Area', 'Bsmt_Full_Bath', 'Bsmt_Half_Bath', 'Full_Bath',\n",
       "       'Half_Bath', 'Bedroom_AbvGr', 'Kitchen_AbvGr', 'Kitchen_Qual',\n",
       "       'TotRms_AbvGrd', 'Functional', 'Fireplaces', 'Fireplace_Qu',\n",
       "       'Garage_Type', 'Garage_Yr_Blt', 'Garage_Finish', 'Garage_Cars',\n",
       "       'Garage_Area', 'Garage_Qual', 'Garage_Cond', 'Paved_Drive',\n",
       "       'Wood_Deck_SF', 'Open_Porch_SF', 'Enclosed_Porch', 'Three_season_porch',\n",
       "       'Screen_Porch', 'Pool_Area', 'Pool_QC', 'Fence', 'Misc_Feature',\n",
       "       'Misc_Val', 'Mo_Sold', 'Year_Sold', 'Sale_Type', 'Sale_Condition',\n",
       "       'Longitude', 'Latitude', 'Sale_Price'],\n",
       "      dtype='object')"
      ]
     },
     "execution_count": 58,
     "metadata": {},
     "output_type": "execute_result"
    }
   ],
   "source": [
    "data.columns"
   ]
  },
  {
   "cell_type": "code",
   "execution_count": 60,
   "id": "60823dd8-fbd1-4ca1-a0c0-79b9cabb4136",
   "metadata": {},
   "outputs": [
    {
     "data": {
      "text/plain": [
       "(896, 896, 0, 882)"
      ]
     },
     "execution_count": 60,
     "metadata": {},
     "output_type": "execute_result"
    }
   ],
   "source": [
    "for i in range(data.shape[0]):\n",
    "    area = data.iloc[0][\"Gr_Liv_Area\"] - data.iloc[0][\"First_Flr_SF\"] - data.iloc[0][\"Second_Flr_SF\"]\n",
    "    if area != 0:\n",
    "        print(area, i)\n",
    "\n",
    "data.iloc[0][\"Gr_Liv_Area\"], data.iloc[0][\"First_Flr_SF\"], data.iloc[0][\"Second_Flr_SF\"], data.iloc[0][\"Total_Bsmt_SF\"]"
   ]
  },
  {
   "cell_type": "code",
   "execution_count": 158,
   "id": "09e8ead3-88c3-4b15-964c-f75395cf5e1e",
   "metadata": {},
   "outputs": [],
   "source": [
    "def preprocess_features(data, train_columns=None):\n",
    "    # Some values in Mas_Vnr_Type and Misc_feature have a Nan float value instead of just a \"None\" string\n",
    "    data = data.fillna('None')\n",
    "    # Some homes don't have garages so replace their \"None\" string with 0\n",
    "    data[\"Garage_Yr_Blt\"] = data[\"Garage_Yr_Blt\"].replace(\"None\", 0)\n",
    "\n",
    "    try:\n",
    "        y = np.log(data[\"Sale_Price\"])\n",
    "    except KeyError:\n",
    "        y = None\n",
    "\n",
    "    # Selected qualitative features\n",
    "    best_features = list(data.columns)[1:-1]\n",
    "    data = data[best_features]\n",
    "    \n",
    "    # best_features = [\"Exter_Qual\", \"Foundation\", \"Kitchen_Qual\", \"Fireplace_Qu\", \n",
    "    #                  \"Heating_QC\", \"Bsmt_Qual\"]\n",
    "    # # Selected quantitative features\n",
    "    # best_features.extend([\"Wood_Deck_SF\", \"Bsmt_Unf_SF\", \"Mas_Vnr_Area\", \"Second_Flr_SF\", \"Garage_Yr_Blt\", \n",
    "    #                        \"Garage_Area\", \"First_Flr_SF\", \"Total_Bsmt_SF\", \"Gr_Liv_Area\", \"Lot_Area\"])\n",
    "\n",
    "    # Numerical encoding for ordinal features\n",
    "    ordinal_features = [\"Lot_Shape\", \"Utilities\", \"Land_Slope\", \"Overall_Qual\", \"Overall_Cond\", \"Exter_Qual\", \"Exter_Cond\", \n",
    "                        \"Bsmt_Qual\", \"Bsmt_Cond\", \"Bsmt_Exposure\", \"BsmtFin_Type_1\", \"BsmtFin_Type_2\", \"Heating_QC\", \n",
    "                        \"Electrical\", \"Kitchen_Qual\", \"Functional\", \"Fireplace_Qu\", \"Garage_Finish\", \"Garage_Qual\", \n",
    "                        \"Garage_Cond\", \"Paved_Drive\", \"Pool_QC\", \"Fence\"]\n",
    "    \n",
    "    for feature in ordinal_features:\n",
    "        data[feature] = pd.factorize(data[feature])[0] + 1\n",
    "\n",
    "    # One hot encoding of nominal features\n",
    "    X = pd.get_dummies(data[best_features])\n",
    "\n",
    "    # Handle column mismatch from one hot encoding\n",
    "    if train_columns is not None:\n",
    "        missing_columns = set(train_columns) - set(X.columns)\n",
    "        for column in missing_columns:\n",
    "            X[column] = 0\n",
    "        # Ensure the order of column in the test set is in the same order than in train set\n",
    "        X = X[train_columns]\n",
    "\n",
    "    return X, y"
   ]
  },
  {
   "cell_type": "code",
   "execution_count": 133,
   "id": "bcdeb7b2-b5b0-42e2-b0b4-3c3e3184312d",
   "metadata": {},
   "outputs": [],
   "source": [
    "import sys\n",
    "\n",
    "def xgb_cross_validate(X, y, folds):\n",
    "\n",
    "    n = X.shape[0]\n",
    "    fold_size = n // folds\n",
    "    \n",
    "    min_error = sys.maxsize\n",
    "    best_eta = -1\n",
    "    best_T = -1\n",
    "\n",
    "    for eta in np.arange(0.05, 0.5, 0.05):\n",
    "        for T in np.arange(5, 50, 5):\n",
    "            # print(eta, T)\n",
    "            average_error = 0\n",
    "            for i in range(folds):\n",
    "                start = i * fold_size\n",
    "                end = (i + 1) * fold_size\n",
    "                \n",
    "                X_holdout = X[start:end]\n",
    "                X_train = np.concatenate([X[end:], X[:start]])\n",
    "                y_holdout = y[start:end]\n",
    "                y_train = np.concatenate([y[end:],y[:start]])\n",
    "\n",
    "                clf = xgb.XGBRegressor(n_estimators=T, learning_rate=eta)\n",
    "                clf.fit(X_train, y_train)\n",
    "                yhat = np.log(clf.predict(X_holdout))\n",
    "                \n",
    "                error = np.mean((y_holdout - yhat)**2)**(0.5)\n",
    "                average_error = ((average_error * i) + error) / (i + 1)\n",
    "            \n",
    "            if average_error <= min_error:\n",
    "                min_error = average_error\n",
    "                best_eta = eta\n",
    "                best_T = T\n",
    "    \n",
    "    return best_eta, best_T"
   ]
  },
  {
   "cell_type": "code",
   "execution_count": 157,
   "id": "1b249ad0-bacd-40db-b40a-fac81283a2cc",
   "metadata": {},
   "outputs": [],
   "source": [
    "X_train, y_train = preprocess_features(pd.read_csv(f\"data/fold1/train.csv\"))"
   ]
  },
  {
   "cell_type": "code",
   "execution_count": 161,
   "id": "bdb0c712-c260-49a5-a928-ba38d1a0c509",
   "metadata": {},
   "outputs": [
    {
     "name": "stdout",
     "output_type": "stream",
     "text": [
      "RMSE for fold_1: 0.1387085241123735 0.05 5000\n",
      "RMSE for fold_2: 0.15999776708906746 0.05 5000\n",
      "RMSE for fold_3: 0.13585355370900068 0.05 5000\n",
      "RMSE for fold_4: 0.15962948984434 0.05 5000\n",
      "RMSE for fold_5: 0.13845091253036873 0.05 5000\n",
      "RMSE for fold_6: 0.16052538379417647 0.05 5000\n",
      "RMSE for fold_7: 0.17288935007552805 0.05 5000\n",
      "RMSE for fold_8: 0.15942630180898326 0.05 5000\n",
      "RMSE for fold_9: 0.18369483303813236 0.05 5000\n",
      "RMSE for fold_10: 0.16569923435794826 0.05 5000\n"
     ]
    }
   ],
   "source": [
    "import xgboost as xgb\n",
    "\n",
    "for i in range(1, 11):\n",
    "    X_train, y_train = preprocess_features(pd.read_csv(f\"data/fold{i}/train.csv\"))\n",
    "    # print(X_train.shape)\n",
    "    # cv_eta, cv_T = xgb_cross_validate(X_train, y_train, folds=10)\n",
    "    cv_eta = 0.05\n",
    "    cv_T = 5000\n",
    "    \n",
    "    X_test, _ = preprocess_features(pd.read_csv(f\"data/fold{i}/test.csv\"), X_train.columns)\n",
    "    y_test = pd.read_csv(f\"data/fold{i}/test_y.csv\")[\"Sale_Price\"]\n",
    "    y_test = np.log(y_test)\n",
    "    \n",
    "    clf = xgb.XGBRegressor(n_estimators=cv_T, learning_rate=cv_eta, max_depth=6, subsample=0.3)\n",
    "    clf.fit(X_train, y_train)\n",
    "    yhat = clf.predict(X_test)\n",
    "    \n",
    "    residuals = np.mean((y_test - yhat)**2)**(0.5)\n",
    "    print(f\"RMSE for fold_{i}:\", residuals, cv_eta, cv_T)"
   ]
  },
  {
   "cell_type": "code",
   "execution_count": 162,
   "id": "246a0929-7622-4c58-88de-24c47ebbacac",
   "metadata": {},
   "outputs": [
    {
     "name": "stdout",
     "output_type": "stream",
     "text": [
      "RMSE for fold_1: 0.15746881831219336 0.3 150\n",
      "RMSE for fold_2: 0.17059099538255576 0.3 150\n",
      "RMSE for fold_3: 0.15378633181472062 0.3 150\n",
      "RMSE for fold_4: 0.17122312673532372 0.3 150\n",
      "RMSE for fold_5: 0.14160415971438822 0.3 150\n",
      "RMSE for fold_6: 0.18051977602615593 0.3 150\n",
      "RMSE for fold_7: 0.20488525807816413 0.3 150\n",
      "RMSE for fold_8: 0.17140631407585138 0.3 150\n",
      "RMSE for fold_9: 0.20092356843127718 0.3 150\n",
      "RMSE for fold_10: 0.17102032784361956 0.3 150\n"
     ]
    }
   ],
   "source": [
    "import xgboost as xgb\n",
    "\n",
    "for i in range(1, 11):\n",
    "    X_train, y_train = preprocess_features(pd.read_csv(f\"data/fold{i}/train.csv\"))\n",
    "    \n",
    "    # cv_eta, cv_T = xgb_cross_validate(X_train, y_train, folds=10)\n",
    "    cv_eta = 0.3\n",
    "    cv_T = 150\n",
    "    \n",
    "    X_test, _ = preprocess_features(pd.read_csv(f\"data/fold{i}/test.csv\"), X_train.columns)\n",
    "    y_test = pd.read_csv(f\"data/fold{i}/test_y.csv\")[\"Sale_Price\"]\n",
    "    y_test = np.log(y_test)\n",
    "\n",
    "    clf = xgb.XGBRegressor(n_estimators=cv_T, learning_rate=cv_eta)\n",
    "    clf.fit(X_train, y_train)\n",
    "    yhat = clf.predict(X_test)\n",
    "    \n",
    "    residuals = np.mean((y_test - yhat)**2)**(0.5)\n",
    "\n",
    "    print(f\"RMSE for fold_{i}:\", residuals, cv_eta, cv_T)"
   ]
  }
 ],
 "metadata": {
  "kernelspec": {
   "display_name": "Python 3 (ipykernel)",
   "language": "python",
   "name": "python3"
  },
  "language_info": {
   "codemirror_mode": {
    "name": "ipython",
    "version": 3
   },
   "file_extension": ".py",
   "mimetype": "text/x-python",
   "name": "python",
   "nbconvert_exporter": "python",
   "pygments_lexer": "ipython3",
   "version": "3.11.3"
  }
 },
 "nbformat": 4,
 "nbformat_minor": 5
}
