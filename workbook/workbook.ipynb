{
 "cells": [
  {
   "cell_type": "code",
   "execution_count": 2,
   "id": "e2d76539-69ae-433a-85bf-6839c0250b12",
   "metadata": {},
   "outputs": [],
   "source": [
    "import numpy as np\n",
    "import pandas as pd\n",
    "import matplotlib.pyplot as plt\n",
    "import matplotlib.cm as cm\n",
    "\n",
    "from scipy.linalg import sqrtm\n",
    "\n",
    "from sklearn.discriminant_analysis import LinearDiscriminantAnalysis, QuadraticDiscriminantAnalysis\n",
    "from sklearn.metrics import confusion_matrix"
   ]
  },
  {
   "cell_type": "code",
   "execution_count": 41,
   "id": "c60320f8-25fa-4c6b-8e1c-cb404bcee427",
   "metadata": {},
   "outputs": [
    {
     "name": "stdout",
     "output_type": "stream",
     "text": [
      "200\n"
     ]
    }
   ],
   "source": [
    "Y_train = []\n",
    "X_train = []\n",
    "\n",
    "with open(\"data/zip.train\", \"r\") as file:\n",
    "    for line in file:\n",
    "        data = line.split(' ')\n",
    "        Y_train.append(int(float(data[0])))\n",
    "        X_train.append([float(x) for x in data[1:-1]])\n",
    "\n",
    "Y_train = np.array(Y_train)\n",
    "X_train = np.array(X_train)\n",
    "\n",
    "Y_test = []\n",
    "X_test = []\n",
    "\n",
    "count = 0\n",
    "with open(\"data/zip.test\", \"r\") as file:\n",
    "    for i, line in enumerate(file):\n",
    "        data = line.split(' ')\n",
    "        data[-1] = data[-1][:-1]\n",
    "        Y_test.append(int(float(data[0])))\n",
    "\n",
    "        if Y_test[-1] == 4:\n",
    "            count += 1\n",
    "        \n",
    "        X_test.append([float(x) for x in data[1:]])\n",
    "        \n",
    "print(count)\n",
    "Y_test = np.array(Y_test)\n",
    "X_test = np.array(X_test)"
   ]
  },
  {
   "cell_type": "code",
   "execution_count": 39,
   "id": "4c6a9030-1f03-4d47-8853-61080a9a4361",
   "metadata": {},
   "outputs": [
    {
     "name": "stdout",
     "output_type": "stream",
     "text": [
      "(7291,) (7291, 256)\n",
      "(2007,) (2007, 256)\n"
     ]
    }
   ],
   "source": [
    "print(Y_train.shape, X_train.shape)\n",
    "print(Y_test.shape, X_test.shape)"
   ]
  },
  {
   "cell_type": "code",
   "execution_count": 40,
   "id": "bd9c4bee-3d4a-441e-b1d2-6e044d9bb4ee",
   "metadata": {},
   "outputs": [
    {
     "data": {
      "text/plain": [
       "array([[342,   0,   7,   3,   1,   6,   1,   0,   5,   0],\n",
       "       [  0, 251,   2,   0,   4,   0,   0,   1,   0,   0],\n",
       "       [  0,   0, 157,   3,   6,   0,   3,   0,   2,   0],\n",
       "       [  4,   2,   4, 142,   0,  16,   0,   2,  11,   0],\n",
       "       [  3,   5,  12,   3, 174,   3,   3,   7,   7,   4],\n",
       "       [  1,   0,   2,   9,   0, 125,   3,   0,   4,   0],\n",
       "       [  5,   3,   1,   0,   2,   0, 157,   0,   0,   0],\n",
       "       [  0,   0,   1,   1,   2,   0,   0, 129,   0,   5],\n",
       "       [  3,   1,  12,   4,   1,   5,   3,   1, 135,   3],\n",
       "       [  1,   2,   0,   1,  10,   5,   0,   7,   2, 165]], dtype=int64)"
      ]
     },
     "execution_count": 40,
     "metadata": {},
     "output_type": "execute_result"
    }
   ],
   "source": [
    "dig_lda = LinearDiscriminantAnalysis()\n",
    "dig_lda.fit(X_train, Y_train)\n",
    "\n",
    "Y_pred = dig_lda.predict(X_test)\n",
    "confusion_matrix(Y_pred, Y_test)"
   ]
  },
  {
   "cell_type": "code",
   "execution_count": 43,
   "id": "f0f84971-8b37-4ad7-9ca7-4f4f2f500d3f",
   "metadata": {},
   "outputs": [
    {
     "data": {
      "text/plain": [
       "array([5.91211400e-01, 5.66456601e-22, 3.76925680e-03, 6.54706021e-09,\n",
       "       6.91192214e-04, 4.69778806e-03, 3.99630345e-01, 4.91716076e-10,\n",
       "       8.44323068e-09, 2.13066832e-09])"
      ]
     },
     "execution_count": 43,
     "metadata": {},
     "output_type": "execute_result"
    }
   ],
   "source": [
    "dig_lda.predict_proba(X_test)[3]"
   ]
  }
 ],
 "metadata": {
  "kernelspec": {
   "display_name": "Python 3 (ipykernel)",
   "language": "python",
   "name": "python3"
  },
  "language_info": {
   "codemirror_mode": {
    "name": "ipython",
    "version": 3
   },
   "file_extension": ".py",
   "mimetype": "text/x-python",
   "name": "python",
   "nbconvert_exporter": "python",
   "pygments_lexer": "ipython3",
   "version": "3.11.3"
  }
 },
 "nbformat": 4,
 "nbformat_minor": 5
}
