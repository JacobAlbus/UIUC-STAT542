{
 "cells": [
  {
   "cell_type": "code",
   "execution_count": 1,
   "id": "f3ae9826-f574-421d-925d-a6f5a00323cf",
   "metadata": {},
   "outputs": [],
   "source": [
    "import pandas as pd\n",
    "import numpy as np"
   ]
  },
  {
   "cell_type": "markdown",
   "id": "84052156-4b78-4f14-b9b9-7e0e4991f47f",
   "metadata": {},
   "source": [
    "## Training"
   ]
  },
  {
   "cell_type": "code",
   "execution_count": 2,
   "id": "ba06d76e-dbe2-45fb-915c-8aae4f1ba7cc",
   "metadata": {},
   "outputs": [],
   "source": [
    "train_data = pd.read_csv(\"data/coding5_train.csv\").to_numpy()\n",
    "\n",
    "lam = 1\n",
    "T = 20\n",
    "p = train_data.shape[1] - 1\n",
    "\n",
    "beta = np.zeros(p) # slope\n",
    "alpha = 0          # intercept\n",
    "t = 0\n",
    "\n",
    "np.random.seed(1234)\n",
    "\n",
    "for t in range(T):\n",
    "\n",
    "    np.random.shuffle(train_data) \n",
    "    \n",
    "    for row in enumerate(train_data):\n",
    "        x = row[1][:-1]\n",
    "        y = 1 if row[1][-1] == 6 else -1 # map 5 to -1 and 6 to 1\n",
    "        \n",
    "        t += 1\n",
    "        ita = (1 / (t * lam))\n",
    "        \n",
    "        # calculate gradients\n",
    "        slope_gradient = (lam * beta)\n",
    "        intercept_gradient = 0\n",
    "        \n",
    "        if y * ((x @ beta) + alpha) < 1:\n",
    "            slope_gradient -= (y * x)\n",
    "            intercept_gradient -= y    \n",
    "\n",
    "        # update coefficients\n",
    "        beta -= ita * slope_gradient\n",
    "        alpha -= ita * intercept_gradient"
   ]
  },
  {
   "cell_type": "markdown",
   "id": "c44f843c-6e04-480a-83c9-2a1a2dc6049c",
   "metadata": {},
   "source": [
    "## Testing"
   ]
  },
  {
   "cell_type": "code",
   "execution_count": 8,
   "id": "dc7b6280-d437-460a-b1ab-eee17c76b64d",
   "metadata": {},
   "outputs": [
    {
     "name": "stdout",
     "output_type": "stream",
     "text": [
      "Test error rate: 0.036666666666666625\n"
     ]
    }
   ],
   "source": [
    "test_data = pd.read_csv(\"data/coding5_test.csv\")\n",
    "X_test = test_data.drop(columns=[\"Y\"]).to_numpy()\n",
    "\n",
    "Y_test = test_data[\"Y\"].to_numpy()\n",
    "Y_test = np.where(Y_test == 6, 1, -1) # map 5 to -1 and 6 to 1\n",
    "\n",
    "test_predictions = np.where(((X_test @ beta) + alpha) > 0, 1, -1)\n",
    "\n",
    "correct = np.where(test_predictions == Y_test, 1, 0)\n",
    "print(\"Test error rate:\",  1 - (np.sum(correct) / Y_test.shape[0]))"
   ]
  },
  {
   "cell_type": "code",
   "execution_count": 9,
   "id": "6b6a2b10-273d-48d6-b5d5-f88914a5ca94",
   "metadata": {},
   "outputs": [],
   "source": [
    "def pretty_print_matrix(confusion_matrix, is_test=False):\n",
    "    title = \"Test Confusion Matrix\" if is_test else \"Train Confusion Matrix\"\n",
    "\n",
    "    space = \"    \"\n",
    "    print(f\"========{title}========\")\n",
    "    print(f\"{space}{space}{space}{space}Actual\")\n",
    "    # print(f\"{space}Positive{space}Negative\")\n",
    "    print(f\"{space}{space}{space}{confusion_matrix[0][0]}{space}{space}{confusion_matrix[0][1]}\")\n",
    "    print(f\"Predicted\")\n",
    "    print(f\"{space}{space}{space}{confusion_matrix[1][0]}{space}{space}{confusion_matrix[1][1]}\")\n",
    "\n",
    "    bottom_border = ['=' for i in range(len(title) + 16)]\n",
    "    print(''.join(bottom_border))"
   ]
  },
  {
   "cell_type": "code",
   "execution_count": 11,
   "id": "f48b8373-8f99-4bb2-8a4b-d211aaaae578",
   "metadata": {},
   "outputs": [
    {
     "name": "stdout",
     "output_type": "stream",
     "text": [
      "========Test Confusion Matrix========\n",
      "                Actual\n",
      "            285        7\n",
      "Predicted\n",
      "            15        293\n",
      "=====================================\n",
      "========Train Confusion Matrix========\n",
      "                Actual\n",
      "            98        0\n",
      "Predicted\n",
      "            2        100\n",
      "======================================\n"
     ]
    }
   ],
   "source": [
    "test_confusion = [[0, 0], [0, 0]]\n",
    "\n",
    "for pred, actual in zip(test_predictions, Y_test):\n",
    "    if pred == 1 and actual == 1:\n",
    "        test_confusion[0][0] += 1\n",
    "    elif pred == 1 and actual == -1:\n",
    "        test_confusion[0][1] += 1\n",
    "    elif pred == -1 and actual == 1:\n",
    "        test_confusion[1][0] += 1\n",
    "    else:\n",
    "        test_confusion[1][1] += 1\n",
    "        \n",
    "pretty_print_matrix(test_confusion, is_test=True)\n",
    "\n",
    "train_confusion = [[0, 0], [0, 0]]\n",
    "X_train = train_data[:, :-1]\n",
    "train_predictions = np.where(((X_train @ beta) + alpha) > 0, 1, -1)\n",
    "\n",
    "Y_train = np.where(train_data[:, -1] == 6, 1, -1) # map 5 to -1 and 6 to 1\n",
    "\n",
    "for pred, actual in zip(train_predictions, Y_train):\n",
    "    if pred == 1 and actual == 1:\n",
    "        train_confusion[0][0] += 1\n",
    "    elif pred == 1 and actual == -1:\n",
    "        train_confusion[0][1] += 1\n",
    "    elif pred == -1 and actual == 1:\n",
    "        train_confusion[1][0] += 1\n",
    "    else:\n",
    "        train_confusion[1][1] += 1\n",
    "\n",
    "pretty_print_matrix(train_confusion)"
   ]
  }
 ],
 "metadata": {
  "kernelspec": {
   "display_name": "Python 3 (ipykernel)",
   "language": "python",
   "name": "python3"
  },
  "language_info": {
   "codemirror_mode": {
    "name": "ipython",
    "version": 3
   },
   "file_extension": ".py",
   "mimetype": "text/x-python",
   "name": "python",
   "nbconvert_exporter": "python",
   "pygments_lexer": "ipython3",
   "version": "3.11.3"
  }
 },
 "nbformat": 4,
 "nbformat_minor": 5
}
