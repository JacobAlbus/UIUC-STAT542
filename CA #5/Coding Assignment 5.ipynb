{
 "cells": [
  {
   "cell_type": "code",
   "execution_count": 66,
   "id": "f3ae9826-f574-421d-925d-a6f5a00323cf",
   "metadata": {},
   "outputs": [],
   "source": [
    "import pandas as pd\n",
    "import numpy as np"
   ]
  },
  {
   "cell_type": "code",
   "execution_count": 80,
   "id": "ba06d76e-dbe2-45fb-915c-8aae4f1ba7cc",
   "metadata": {},
   "outputs": [],
   "source": [
    "train_data = pd.read_csv(\"data/coding5_train.csv\").to_numpy()\n",
    "\n",
    "lam = 1\n",
    "T = 20\n",
    "p = train_data.shape[1] - 1\n",
    "\n",
    "beta = np.zeros(p) # slope\n",
    "alpha = 0          # intercept\n",
    "t = 0\n",
    "\n",
    "np.random.seed(1234)\n",
    "\n",
    "for t in range(T):\n",
    "\n",
    "    np.random.shuffle(train_data)\n",
    "    \n",
    "    for row in enumerate(train_data):\n",
    "        x = row[1][:-1]\n",
    "        y = 1 if row[1][-1] == 6 else -1 # map 5 to -1 and 6 to 1\n",
    "        \n",
    "        t += 1\n",
    "        ita = (1 / (t * lam))\n",
    "        \n",
    "        # calculate gradients\n",
    "        slope_gradient = (lam * beta)\n",
    "        intercept_gradient = 0\n",
    "        \n",
    "        if y * ((x @ beta) + alpha) < 1:\n",
    "            slope_gradient -= (y * x)\n",
    "            intercept_gradient -= y    \n",
    "\n",
    "        # update coefficients\n",
    "        beta -= ita * slope_gradient\n",
    "        alpha -= ita * intercept_gradient"
   ]
  },
  {
   "cell_type": "code",
   "execution_count": 82,
   "id": "dc7b6280-d437-460a-b1ab-eee17c76b64d",
   "metadata": {},
   "outputs": [
    {
     "name": "stdout",
     "output_type": "stream",
     "text": [
      "0.9633333333333334\n"
     ]
    }
   ],
   "source": [
    "test_data = pd.read_csv(\"data/coding5_test.csv\")\n",
    "X_test = test_data.drop(columns=[\"Y\"]).to_numpy()\n",
    "\n",
    "Y_test = test_data[\"Y\"].to_numpy()\n",
    "Y_test = np.where(Y_test == 6, 1, -1) # map 5 to -1 and 6 to 1\n",
    "\n",
    "predictions = np.where(((X_test @ beta) + alpha) > 0, 1, -1)\n",
    "\n",
    "correct = np.where(predictions == Y_test, 1, 0)\n",
    "print(np.sum(correct) / Y_test.shape[0])"
   ]
  }
 ],
 "metadata": {
  "kernelspec": {
   "display_name": "Python 3 (ipykernel)",
   "language": "python",
   "name": "python3"
  },
  "language_info": {
   "codemirror_mode": {
    "name": "ipython",
    "version": 3
   },
   "file_extension": ".py",
   "mimetype": "text/x-python",
   "name": "python",
   "nbconvert_exporter": "python",
   "pygments_lexer": "ipython3",
   "version": "3.11.3"
  }
 },
 "nbformat": 4,
 "nbformat_minor": 5
}
