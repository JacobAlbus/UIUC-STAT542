{
 "cells": [
  {
   "cell_type": "code",
   "execution_count": 1,
   "id": "a6913cc4-23b5-4f22-9bef-0d201cce53ba",
   "metadata": {},
   "outputs": [],
   "source": [
    "import numpy as np\n",
    "import pandas as pd"
   ]
  },
  {
   "cell_type": "code",
   "execution_count": 206,
   "id": "af474c94-0c47-4a28-be49-e9de54b2cf67",
   "metadata": {},
   "outputs": [
    {
     "name": "stdout",
     "output_type": "stream",
     "text": [
      "(506, 13) (506, 1)\n"
     ]
    }
   ],
   "source": [
    "data = pd.read_csv(\"data/Coding2_Data.csv\")\n",
    "\n",
    "var_names = data.columns\n",
    "y = data[['Y']].to_numpy()\n",
    "X = data.drop(['Y'], axis = 1).to_numpy()\n",
    "print(X.shape, y.shape)"
   ]
  },
  {
   "cell_type": "code",
   "execution_count": 254,
   "id": "78a8e119-2ade-4997-9d7b-22fa65dbf6ae",
   "metadata": {},
   "outputs": [],
   "source": [
    "def one_var_lasso(v, z, penalty):\n",
    "    n = v.shape[0]\n",
    "    z_norm = z.T @ z\n",
    "    a = (v.T @ z) / z_norm\n",
    "\n",
    "    ita = (penalty * n) / z_norm\n",
    "\n",
    "    if a > ita:\n",
    "        return a - ita\n",
    "    elif a < -ita:\n",
    "        return a + ita\n",
    "    else:\n",
    "        return 0"
   ]
  },
  {
   "cell_type": "code",
   "execution_count": 244,
   "id": "ebc198f7-b75c-44a0-96fe-c71fe7e35f2e",
   "metadata": {},
   "outputs": [],
   "source": [
    "def MyLasso(X, y, lam_seq, maxit = 100):\n",
    "    # Input\n",
    "    # X: n-by-p design matrix without the intercept \n",
    "    # y: n-by-1 response vector \n",
    "    # lam.seq: sequence of lambda values (arranged from large to small)\n",
    "    # maxit: number of updates for each lambda \n",
    "    \n",
    "    # Output\n",
    "    # B: a (p+1)-by-len(lam.seq) coefficient matrix \n",
    "    #    with the first row being the intercept sequence \n",
    "    n, p = X.shape\n",
    "    nlam = len(lam_seq)\n",
    "    B = np.zeros((p+1, nlam))\n",
    "    \n",
    "    ##############################\n",
    "    # YOUR CODE: \n",
    "    # (1) newX = Standardizad X; \n",
    "    # (2) Record the centers and scales used in (1) \n",
    "    ##############################\n",
    "    newX = np.copy(X)\n",
    "    means = np.zeros(M)\n",
    "    sd = np.zeros(M)\n",
    "    for j in range(M):\n",
    "        means[j] = np.mean(newX[:, j])\n",
    "        sd[j] = np.mean(newX[:, j])\n",
    "        newX[:, j] = (newX[:, j] - means[j]) / sd[j]\n",
    "    y_mean = np.mean(y)\n",
    "\n",
    "    # Initilize coef vector b and residual vector r\n",
    "    b = np.zeros(p)\n",
    "    r = y\n",
    "    \n",
    "    # Triple nested loop\n",
    "    for m in range(nlam):\n",
    "        for step in range(maxit):\n",
    "            for j in range(p):\n",
    "                X_j = newX[:, j].reshape(-1,1)\n",
    "                r = r + X_j * b[j]\n",
    "                b[j] = one_var_lasso(r, X_j, lam_seq[m])\n",
    "                r = r - X_j * b[j]\n",
    "        B[1:, m] = b \n",
    "        \n",
    "    ##############################\n",
    "    # YOUR CODE:\n",
    "    # Scale back the coefficients;\n",
    "    # Update the intercepts stored in B[, 0]\n",
    "    ##############################\n",
    "    for m in range(nlam):\n",
    "        B[0, m] = y_mean\n",
    "        B[1:, m] *= sd\n",
    "    print(means)\n",
    "    \n",
    "    return(B)"
   ]
  },
  {
   "cell_type": "code",
   "execution_count": 252,
   "id": "7a5c3012-4fa2-499d-af63-fb306dd28216",
   "metadata": {},
   "outputs": [
    {
     "name": "stdout",
     "output_type": "stream",
     "text": [
      "[-0.78043626  1.13636364  2.16019166  0.06916996 -0.61002573  1.83186406\n",
      "  5.06079038  1.1880324   1.86766099  5.93140464  2.15005374  3.56674032\n",
      "  3.41767318]\n"
     ]
    }
   ],
   "source": [
    "log_lam_seq = np.linspace(-1, -8, num = 80)\n",
    "lam_seq = np.exp(log_lam_seq)\n",
    "myout = MyLasso(X, y, lam_seq, maxit = 100)"
   ]
  },
  {
   "cell_type": "code",
   "execution_count": 216,
   "id": "7c760597-9cc5-498a-9d46-8230b6e1c83d",
   "metadata": {},
   "outputs": [
    {
     "name": "stdout",
     "output_type": "stream",
     "text": [
      "[3.03451287 0.         0.         0.         0.         0.\n",
      " 0.         0.         0.         0.         0.         0.\n",
      " 0.         0.        ]\n"
     ]
    }
   ],
   "source": [
    "lasso_coef = pd.read_csv(\"data/Coding2_lasso_coefs.csv\").to_numpy()\n",
    "print(lasso_coef[:, 0])"
   ]
  },
  {
   "cell_type": "code",
   "execution_count": 253,
   "id": "d5e4ad81-19f0-471a-9b28-529f5907e143",
   "metadata": {},
   "outputs": [
    {
     "name": "stdout",
     "output_type": "stream",
     "text": [
      "[ 3.03451287e+00 -1.71634468e-01 -2.96692564e-02  1.87225258e+00\n",
      "  3.88827107e-04 -1.79007924e+00  1.31387068e+02  1.37501380e+01\n",
      "  1.72822778e-02 -3.98969232e-01 -2.11738455e+02  7.60991903e+00\n",
      " -1.82546058e+00  1.22236130e+01]\n"
     ]
    },
    {
     "data": {
      "text/plain": [
       "211.7384549959159"
      ]
     },
     "execution_count": 253,
     "metadata": {},
     "output_type": "execute_result"
    }
   ],
   "source": [
    "# for j in range(len(lam_seq)):\n",
    "print(myout[:, 0])\n",
    "abs(myout - lasso_coef).max()"
   ]
  }
 ],
 "metadata": {
  "kernelspec": {
   "display_name": "Python 3 (ipykernel)",
   "language": "python",
   "name": "python3"
  },
  "language_info": {
   "codemirror_mode": {
    "name": "ipython",
    "version": 3
   },
   "file_extension": ".py",
   "mimetype": "text/x-python",
   "name": "python",
   "nbconvert_exporter": "python",
   "pygments_lexer": "ipython3",
   "version": "3.11.3"
  }
 },
 "nbformat": 4,
 "nbformat_minor": 5
}
