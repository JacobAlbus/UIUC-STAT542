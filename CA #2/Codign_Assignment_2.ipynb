{
 "cells": [
  {
   "cell_type": "markdown",
   "id": "f5ede40b-cdb1-4443-bb2e-39e150a3bf3b",
   "metadata": {},
   "source": [
    "## Part 1"
   ]
  },
  {
   "cell_type": "code",
   "execution_count": 335,
   "id": "a6913cc4-23b5-4f22-9bef-0d201cce53ba",
   "metadata": {},
   "outputs": [],
   "source": [
    "import numpy as np\n",
    "import pandas as pd"
   ]
  },
  {
   "cell_type": "code",
   "execution_count": 336,
   "id": "af474c94-0c47-4a28-be49-e9de54b2cf67",
   "metadata": {},
   "outputs": [
    {
     "name": "stdout",
     "output_type": "stream",
     "text": [
      "(506, 13) (506, 1)\n"
     ]
    }
   ],
   "source": [
    "data = pd.read_csv(\"data/Coding2_Data.csv\")\n",
    "\n",
    "var_names = data.columns\n",
    "y = data[['Y']].to_numpy()\n",
    "X = data.drop(['Y'], axis = 1).to_numpy()\n",
    "print(X.shape, y.shape)"
   ]
  },
  {
   "cell_type": "code",
   "execution_count": 337,
   "id": "78a8e119-2ade-4997-9d7b-22fa65dbf6ae",
   "metadata": {},
   "outputs": [],
   "source": [
    "def one_var_lasso(v, z, penalty):\n",
    "    n = v.shape[0]\n",
    "    z_norm = z.T @ z\n",
    "    a = (v.T @ z) / z_norm\n",
    "\n",
    "    ita = (penalty * n) / z_norm\n",
    "\n",
    "    if a > ita:\n",
    "        return a - ita\n",
    "    elif a < -ita:\n",
    "        return a + ita\n",
    "    else:\n",
    "        return 0"
   ]
  },
  {
   "cell_type": "code",
   "execution_count": 344,
   "id": "ebc198f7-b75c-44a0-96fe-c71fe7e35f2e",
   "metadata": {},
   "outputs": [],
   "source": [
    "def MyLasso(X, y, lam_seq, maxit = 100):\n",
    "    # Input\n",
    "    # X: n-by-p design matrix without the intercept \n",
    "    # y: n-by-1 response vector \n",
    "    # lam.seq: sequence of lambda values (arranged from large to small)\n",
    "    # maxit: number of updates for each lambda \n",
    "    \n",
    "    # Output\n",
    "    # B: a (p+1)-by-len(lam.seq) coefficient matrix \n",
    "    #    with the first row being the intercept sequence \n",
    "    n, p = X.shape\n",
    "    nlam = len(lam_seq)\n",
    "    B = np.zeros((p+1, nlam))\n",
    "    \n",
    "    ##############################\n",
    "    # YOUR CODE: \n",
    "    # (1) newX = Standardizad X; \n",
    "    # (2) Record the centers and scales used in (1) \n",
    "    ##############################\n",
    "    newX = np.copy(X)\n",
    "    means = np.zeros(M)\n",
    "    sd = np.zeros(M)\n",
    "    \n",
    "    for j in range(M):\n",
    "        means[j] = np.mean(newX[:, j])\n",
    "        # sd[j] = np.sum(np.power(newX[:, j] - means[j], 2)) / (n - 1)\n",
    "        sd[j] = np.std(newX[:, j])\n",
    "        newX[:, j] = (newX[:, j] - means[j]) / sd[j]\n",
    "    y_mean = np.mean(y)\n",
    "\n",
    "    # Initilize coef vector b and residual vector r\n",
    "    b = np.zeros(p)\n",
    "    r = y\n",
    "\n",
    "    # Triple nested loop\n",
    "    for m in range(nlam):\n",
    "        b = np.zeros(p)\n",
    "        r = y\n",
    "        for step in range(maxit):\n",
    "            for j in range(p):\n",
    "                X_j = newX[:, j].reshape(-1,1)\n",
    "                r = r + X_j * b[j]\n",
    "                b[j] = one_var_lasso(r, X_j, lam_seq[m])\n",
    "                r = r - X_j * b[j]\n",
    "        B[1:, m] = b \n",
    "\n",
    "    ##############################\n",
    "    # YOUR CODE:\n",
    "    # Scale back the coefficients;\n",
    "    # Update the intercepts stored in B[, 0]\n",
    "    ##############################\n",
    "    for m in range(nlam):\n",
    "        B[0, m] = y_mean \n",
    "        B[1:, m] *= sd\n",
    "    \n",
    "    return(B)"
   ]
  },
  {
   "cell_type": "code",
   "execution_count": 345,
   "id": "7a5c3012-4fa2-499d-af63-fb306dd28216",
   "metadata": {},
   "outputs": [],
   "source": [
    "log_lam_seq = np.linspace(-1, -8, num = 80)\n",
    "lam_seq = np.exp(log_lam_seq)\n",
    "myout = MyLasso(X, y, lam_seq, maxit = 1)"
   ]
  },
  {
   "cell_type": "code",
   "execution_count": 346,
   "id": "7c760597-9cc5-498a-9d46-8230b6e1c83d",
   "metadata": {},
   "outputs": [],
   "source": [
    "newX = np.copy(X)\n",
    "means = np.zeros(M)\n",
    "sd = np.zeros(M)\n",
    "y_mean = np.mean(y)\n",
    "for j in range(M):\n",
    "    means[j] = np.mean(newX[:, j])\n",
    "    # sd[j] = np.sum(np.power(newX[:, j] - means[j], 2)) / (n - 1)\n",
    "    sd[j] = np.std(newX[:, j]) * (n / (n-1))\n",
    "    newX[:, j] = (newX[:, j] - means[j]) / sd[j]"
   ]
  },
  {
   "cell_type": "code",
   "execution_count": 333,
   "id": "f0eada6c-9fe2-43c5-9132-55abe79d2927",
   "metadata": {},
   "outputs": [
    {
     "data": {
      "text/plain": [
       "3.0345128744146557"
      ]
     },
     "execution_count": 333,
     "metadata": {},
     "output_type": "execute_result"
    }
   ],
   "source": [
    "print(y_mean, "
   ]
  },
  {
   "cell_type": "code",
   "execution_count": 351,
   "id": "d5e4ad81-19f0-471a-9b28-529f5907e143",
   "metadata": {},
   "outputs": [
    {
     "name": "stdout",
     "output_type": "stream",
     "text": [
      "[3.03451287 0.         0.         0.         0.         0.\n",
      " 0.         0.         0.         0.         0.         0.\n",
      " 0.         0.        ]\n",
      "1.1199735339509642\n",
      "3.0345128744146557 -1.1199735339509642\n",
      "0 3.03451287441466 0.36787944117144233 -1.0\n",
      "1 3.03526058236585 0.33668496933316 -1.0886075949367089\n",
      "2 3.13419905569265 0.30813564414990885 -1.1772151898734178\n",
      "3 3.22474800496753 0.28200716944309373 -1.2658227848101267\n",
      "4 3.30761882295259 0.25809426831066373 -1.3544303797468356\n",
      "5 3.38346257960032 0.2362090703805977 -1.4430379746835444\n",
      "6 3.45287513714836 0.21617963581782068 -1.5316455696202531\n",
      "7 3.51640183147785 0.19784860448849337 -1.620253164556962\n",
      "8 3.5745417565143 0.1810719596689109 -1.7088607594936709\n",
      "9 3.62775168533119 0.1657178965861574 -1.7974683544303798\n",
      "10 3.67644965876207 0.15166578690126978 -1.8860759493670887\n",
      "11 3.72101826971503 0.1388052309994309 -1.9746835443037973\n",
      "12 3.76180766899251 0.12703519064156232 -2.0632911392405062\n",
      "13 3.79913831623153 0.11626319516304286 -2.151898734177215\n",
      "14 3.8334067306256 0.10640461498309721 -2.240506329113924\n",
      "15 3.87429586971967 0.09738199671722178 -2.329113924050633\n",
      "16 3.91381812274601 0.08912445466899575 -2.4177215189873418\n",
      "17 3.90589478792097 0.08156711392056668 -2.5063291139240507\n",
      "18 3.89883333876851 0.07465060064648213 -2.5949367088607596\n",
      "19 3.89237138910633 0.06832057564654659 -2.6835443037974684\n",
      "20 3.88679082733428 0.0625273074329303 -2.7721518987341773\n",
      "21 3.84878634301941 0.05722528151751316 -2.8607594936708862\n",
      "22 3.80202818282717 0.052372842829851024 -2.9493670886075947\n",
      "23 3.75840301190822 0.047931868456441526 -3.037974683544304\n",
      "24 3.71846456670803 0.04386746813018382 -3.1265822784810124\n",
      "25 3.68202948567504 0.040147710116943715 -3.2151898734177213\n",
      "26 3.65352038237038 0.036743370345668276 -3.3037974683544302\n",
      "27 3.62749708889385 0.03362770281110396 -3.392405063291139\n",
      "28 3.60368223256513 0.030776229445300275 -3.481012658227848\n",
      "29 3.58245744750527 0.028166547807036275 -3.569620253164557\n",
      "30 3.5624735026049 0.025778155078292418 -3.6582278481012658\n",
      "31 3.54417257008969 0.02359228698500607 -3.7468354430379747\n",
      "32 3.52742325964511 0.021591770376600455 -3.8354430379746836\n",
      "33 3.54639885589772 0.019760888306086407 -3.9240506329113924\n",
      "34 3.59064822564284 0.018085256550746262 -4.012658227848101\n",
      "35 3.62952976172816 0.016551710603291556 -4.101265822784811\n",
      "36 3.66427417682199 0.015148202245646872 -4.189873417721519\n",
      "37 3.69604634913242 0.013863704892797472 -4.2784810126582276\n",
      "38 3.72512492812453 0.012688126963040081 -4.367088607594937\n",
      "39 3.75246817220016 0.011612232594034958 -4.455696202531646\n",
      "40 3.7768449466784 0.010627569081769284 -4.544303797468355\n",
      "41 3.79907345797026 0.009726400472360225 -4.632911392405063\n",
      "42 3.81941570438001 0.008901646784965389 -4.7215189873417724\n",
      "43 3.8154804455645 0.008146828388308833 -4.810126582278481\n",
      "44 3.80984480013811 0.007456015093819829 -4.898734177215189\n",
      "45 3.82690167622596 0.006823779565437639 -4.987341772151899\n",
      "46 3.85833055789682 0.006245154680048919 -5.075949367088608\n",
      "47 3.88719763206822 0.0057155945035624245 -5.1645569620253164\n",
      "48 3.9140186387298 0.005230938576031731 -5.253164556962025\n",
      "49 3.93833216432164 0.004787379225234081 -5.341772151898734\n",
      "50 3.96077467337426 0.004381431651906261 -5.430379746835443\n",
      "51 3.98512467314238 0.004009906551613814 -5.518987341772152\n",
      "52 4.00459847749631 0.003669885058158934 -5.6075949367088604\n",
      "53 4.01173775649744 0.003358695811671193 -5.69620253164557\n",
      "54 4.02416922005657 0.0030738939712179605 -5.784810126582278\n",
      "55 4.03591855016933 0.0028132420070481603 -5.8734177215189876\n",
      "56 4.04554626264472 0.0025746921215647834 -5.962025316455696\n",
      "57 4.05475778101098 0.0023563701609174343 -6.050632911392405\n",
      "58 4.06330790819491 0.00215656089081731 -6.139240506329114\n",
      "59 4.07049326283777 0.0019736945208948036 -6.227848101265823\n",
      "60 4.07757028718831 0.0018063343717291639 -6.3164556962025316\n",
      "61 4.08420650678811 0.0016531655876568638 -6.405063291139241\n",
      "62 4.08967369678986 0.001512984806681538 -6.493670886075949\n",
      "63 4.09764764859887 0.0013846907063276629 -6.582278481012659\n",
      "64 4.1035164185049 0.0012672753511620573 -6.670886075949367\n",
      "65 4.10960398728731 0.0011598162740054437 -6.7594936708860756\n",
      "66 4.11463200357226 0.0010614692286205843 -6.848101265822785\n",
      "67 4.11960422848216 0.0009714615569388803 -6.936708860759493\n",
      "68 4.12436592871944 0.0008890861187154072 -7.025316455696203\n",
      "69 4.12815319884304 0.0008136957359210878 -7.113924050632911\n",
      "70 4.13187025836169 0.0007446981082246495 -7.2025316455696204\n",
      "71 4.13547737070768 0.0006815511596181636 -7.291139240506329\n",
      "72 4.1395611226293 0.0006237587796271613 -7.379746835443038\n",
      "73 4.14176066073612 0.0005708669256464088 -7.468354430379747\n",
      "74 4.14415674759833 0.0005224600557795362 -7.556962025316456\n",
      "75 4.14658688583195 0.0004781578641573444 -7.6455696202531644\n",
      "76 4.14896269491922 0.0004376122930859826 -7.734177215189874\n",
      "77 4.15089543108752 0.0004005047985511223 -7.822784810126582\n",
      "78 4.15272624912263 0.0003665438475946984 -7.9113924050632916\n",
      "79 4.15448640836562 0.00033546262790251185 -8.0\n"
     ]
    }
   ],
   "source": [
    "lasso_coef = pd.read_csv(\"data/Coding2_lasso_coefs.csv\").to_numpy()\n",
    "\n",
    "print(myout[:, 0])\n",
    "print(abs(myout - lasso_coef).max())\n",
    "print(y_mean, y_mean - lasso_coef[0, 79])\n",
    "for m in range(len(lam_seq)):\n",
    "    print(m, lasso_coef[0, m], lam_seq[m], log_lam_seq[m])\n",
    "# for m in range(len(lam_seq)):\n",
    "#     if abs(myout[:, m] - lasso_coef[:, m]).max() > 0.01:\n",
    "#         print(m)\n",
    "#         print(myout[:, m])\n",
    "#         print(lasso_coef[:, m])"
   ]
  },
  {
   "cell_type": "markdown",
   "id": "dac09666-5077-4a60-a7de-660b387b6413",
   "metadata": {},
   "source": [
    "## Part 2"
   ]
  },
  {
   "cell_type": "code",
   "execution_count": 407,
   "id": "afa7f421-2b99-450a-a795-81963c9dad6c",
   "metadata": {},
   "outputs": [],
   "source": [
    "import pandas as pd\n",
    "import numpy as np\n",
    "import matplotlib.pyplot as plt\n",
    "\n",
    "from sklearn.metrics import mean_squared_error\n",
    "from sklearn.model_selection import train_test_split\n",
    "from sklearn.linear_model import LinearRegression as lm\n",
    "from sklearn.linear_model import Ridge, RidgeCV, Lasso, LassoCV\n",
    "\n",
    "from sklearn.decomposition import PCA\n",
    "from sklearn.preprocessing import StandardScaler\n",
    "from sklearn.pipeline import Pipeline\n",
    "\n",
    "from collections import defaultdict\n",
    "\n",
    "import warnings\n",
    "from sklearn.exceptions import ConvergenceWarning\n",
    "warnings.filterwarnings(\"ignore\", category=ConvergenceWarning)"
   ]
  },
  {
   "cell_type": "code",
   "execution_count": 353,
   "id": "dcbb5850-6027-417a-bb84-718355f0f366",
   "metadata": {},
   "outputs": [],
   "source": [
    "class PCR(object):\n",
    "\n",
    "    def __init__(self, num_folds=10):\n",
    "        self.folds = num_folds\n",
    "\n",
    "    def fit(self, X, Y):\n",
    "        n, p = X.shape\n",
    "        indices = np.arange(n)\n",
    "        np.random.shuffle(indices)\n",
    "        index_sets = np.array_split(indices, self.folds)\n",
    "        ncomp = min(p, n - 1 - max([len(i) for i in index_sets]))\n",
    "        cv_err = np.zeros(ncomp)\n",
    "\n",
    "        for ifold in range(self.folds):\n",
    "            train_inds =  np.delete(index_sets, obj=ifold, axis=0).ravel()\n",
    "            test_inds = index_sets[ifold]\n",
    "\n",
    "            X_train = X[train_inds, :]\n",
    "            pipeline = Pipeline([('scaling', StandardScaler()), ('pca', PCA())])\n",
    "            pipeline.fit(X_train)\n",
    "            X_train = pipeline.transform(X_train)\n",
    "            coefs = Y[train_inds].T @ X_train / np.sum(X_train**2, axis=0)\n",
    "            b0 = np.mean(Y[train_inds])\n",
    "\n",
    "            X_test = pipeline.transform(X[test_inds, :])\n",
    "\n",
    "            for k in np.arange(ncomp):\n",
    "                preds = X_test[:, :k] @ coefs.T[:k] + b0\n",
    "                cv_err[k] += cv_err[k] + np.sum((Y[test_inds]-preds)**2)\n",
    "\n",
    "        min_ind = np.argmin(cv_err)\n",
    "        self.ncomp = min_ind+1\n",
    "        pipeline = Pipeline([('scaling', StandardScaler()), ('pca', PCA(n_components=self.ncomp))])\n",
    "        self.transform = pipeline.fit(X)\n",
    "        self.model = lm().fit(self.transform.transform(X), Y)\n",
    "\n",
    "    def predict(self, X):\n",
    "        X_ = self.transform.transform(X)\n",
    "        return self.model.predict(X_)"
   ]
  },
  {
   "cell_type": "code",
   "execution_count": 360,
   "id": "478c1d97-81b5-4c5a-a756-83bfa5b4ef2e",
   "metadata": {},
   "outputs": [],
   "source": [
    "def lasso_cv(X_train, Y_train):\n",
    "    lasso_alphas = np.logspace(-10, 1, 100)\n",
    "    lassocv = LassoCV(alphas = lasso_alphas, cv = 10)\n",
    "    lassocv.fit(X_train, Y_train)\n",
    "\n",
    "    mean_mse = np.mean(lassocv.mse_path_, axis=1)\n",
    "    std_mse = np.std(lassocv.mse_path_, axis=1) / np.sqrt(10) \n",
    "    \n",
    "    cv_alphas = lassocv.alphas_\n",
    "    min_idx = np.argmin(mean_mse)\n",
    "    \n",
    "    alpha_min = cv_alphas[min_idx]\n",
    "    \n",
    "    threshold = mean_mse[min_idx] + std_mse[min_idx]\n",
    "    alpha_1se = max(cv_alphas[np.where(mean_mse <= threshold)])\n",
    "    \n",
    "    return alpha_min, alpha_1se"
   ]
  },
  {
   "cell_type": "code",
   "execution_count": 361,
   "id": "ca83ab22-af3e-4df7-8f29-44d6b8abac4a",
   "metadata": {},
   "outputs": [],
   "source": [
    "def ridge_cv(X_train, Y_train):\n",
    "    ridge_alphas = np.logspace(-10, 1, 100)\n",
    "    ridgecv = RidgeCV(alphas = ridge_alphas, cv = 10, \n",
    "                      scoring = 'neg_mean_squared_error')\n",
    "    ridgecv.fit(X_train, Y_train)\n",
    "    return ridgecv.alpha_"
   ]
  },
  {
   "cell_type": "code",
   "execution_count": 405,
   "id": "4845e606-abc4-444d-a39d-d4cccfdea732",
   "metadata": {},
   "outputs": [],
   "source": [
    "def get_test_errors(X, Y, num_iters=50):\n",
    "    error_data = defaultdict(list)\n",
    "    \n",
    "    n = len(Y)\n",
    "    \n",
    "    for i in range(num_iters):\n",
    "        if i % 10 == 0:\n",
    "            print(\"Currently on\", i, \"th iteration\")\n",
    "            \n",
    "        indices = np.arange(0, n)\n",
    "        np.random.shuffle(indices)\n",
    "        test_ind = indices[:int(np.floor(0.25*n))]\n",
    "        train_ind = indices[len(test_ind):]\n",
    "        \n",
    "        # Splitting the data into training and testing sets\n",
    "        X_train = X.iloc[train_ind]\n",
    "        Y_train = Y[train_ind]\n",
    "        X_test = X.iloc[test_ind]\n",
    "        Y_test = Y[test_ind]\n",
    "\n",
    "        # Full/OLS model\n",
    "        full = lm().fit(X_train, Y_train)\n",
    "        error_data[\"error\"].append(mean_squared_error(Y_test, full.predict(X_test)))\n",
    "        error_data[\"model_type\"].append(\"ols\")\n",
    "\n",
    "        # Ridge Errors\n",
    "        ridge_lambda = ridge_cv(X_train, Y_train)\n",
    "        ridge_model = Ridge(alpha = ridge_lambda)\n",
    "        ridge_model.fit(X_train, Y_train)\n",
    "        error_data[\"error\"].append(mean_squared_error(Y_test, ridge_model.predict(X_test)))\n",
    "        error_data[\"model_type\"].append(\"ridge\")\n",
    "\n",
    "        # Lasso Errors\n",
    "        lambda_min, lambda_1se = lasso_cv(X_train, Y_train)\n",
    "\n",
    "        lasso_model_min = Lasso(alpha = lambda_min, max_iter=10000)\n",
    "        lasso_model_min.fit(X_train, Y_train)\n",
    "        error_data[\"error\"].append(mean_squared_error(Y_test, lasso_model_min.predict(X_test)))\n",
    "        error_data[\"model_type\"].append(\"lasso_min\")\n",
    "        \n",
    "        lasso_model_1se = Lasso(alpha = lambda_1se, max_iter=10000)\n",
    "        lasso_model_1se.fit(X_train, Y_train)\n",
    "        error_data[\"error\"].append(mean_squared_error(Y_test, lasso_model_1se.predict(X_test)))\n",
    "        error_data[\"model_type\"].append(\"lasso_1se\")\n",
    "        \n",
    "        # Lasso Refit error\n",
    "        if lasso_min_errors[i] < lasso_1se_errors[i]:\n",
    "            nonzero_indices = np.where(lasso_model_1se.coef_ != 0)[0]\n",
    "        else:\n",
    "            nonzero_indices = np.where(lasso_model_min.coef_ != 0)[0]\n",
    "        lm_refit = lm()\n",
    "        lm_refit.fit(X_train.iloc[:, nonzero_indices], Y_train)\n",
    "        error_data[\"error\"].append(mean_squared_error(Y_test, lm_refit.predict(X_test.iloc[:, nonzero_indices])))\n",
    "        error_data[\"model_type\"].append(\"lasso_refit\")\n",
    "\n",
    "        # PCR model\n",
    "        pcr = PCR()\n",
    "        pcr.fit(X_train.to_numpy(), Y_train.to_numpy())\n",
    "        pcr_errors[i] = mean_squared_error(Y_test, pcr.predict(X_test.to_numpy()))\n",
    "        error_data[\"error\"].append(mean_squared_error(Y_test, pcr.predict(X_test.to_numpy())))\n",
    "        error_data[\"model_type\"].append(\"pcr\")\n",
    "    \n",
    "    return error_data"
   ]
  },
  {
   "cell_type": "markdown",
   "id": "3b001076-f6a8-4637-86c7-1eaa4841e3ab",
   "metadata": {},
   "source": [
    "### Case 1"
   ]
  },
  {
   "cell_type": "code",
   "execution_count": 411,
   "id": "7d29e374-8af7-4d9b-b2d7-204804efd5b4",
   "metadata": {},
   "outputs": [
    {
     "name": "stdout",
     "output_type": "stream",
     "text": [
      "(506, 91) (506,)\n",
      "Currently on 0 th iteration\n",
      "Currently on 10 th iteration\n",
      "Currently on 20 th iteration\n",
      "Currently on 30 th iteration\n",
      "Currently on 40 th iteration\n"
     ]
    }
   ],
   "source": [
    "data = pd.read_csv(\"data/Coding2_Data2.csv\")\n",
    "Y = data['Y']\n",
    "X = data.drop(['Y'], axis = 1)\n",
    "print(X.shape, Y.shape)\n",
    "\n",
    "scalerX = StandardScaler()\n",
    "scalerX.fit(X)\n",
    "newX = pd.DataFrame(scalerX.transform(X))\n",
    "\n",
    "y_mean = Y.mean()\n",
    "y_std = Y.std()\n",
    "newY = pd.Series((Y - y_mean) / y_std)\n",
    "\n",
    "error_data1 = get_test_errors(newX, newY, num_iters=50)"
   ]
  },
  {
   "cell_type": "code",
   "execution_count": 413,
   "id": "78fd9b28-e9e3-4123-847a-f38343d67d74",
   "metadata": {},
   "outputs": [
    {
     "data": {
      "text/plain": [
       "<Axes: xlabel='model_type', ylabel='error'>"
      ]
     },
     "execution_count": 413,
     "metadata": {},
     "output_type": "execute_result"
    },
    {
     "data": {
      "image/png": "[encoded data removed]",
      "text/plain": [
       "<Figure size 640x480 with 1 Axes>"
      ]
     },
     "metadata": {},
     "output_type": "display_data"
    }
   ],
   "source": [
    "import seaborn as sns\n",
    "\n",
    "sns.stripplot(data=error_data1, x=\"model_type\", y=\"error\")"
   ]
  },
  {
   "cell_type": "markdown",
   "id": "10b739a3-9a5f-4604-8a40-41f4d7f67e87",
   "metadata": {},
   "source": [
    "### Case 2"
   ]
  },
  {
   "cell_type": "code",
   "execution_count": 414,
   "id": "8bde4c4e-87fc-46de-9d0c-0ed99205be7e",
   "metadata": {},
   "outputs": [
    {
     "name": "stdout",
     "output_type": "stream",
     "text": [
      "(506, 591) (506,)\n",
      "Currently on 0 th iteration\n",
      "Currently on 10 th iteration\n",
      "Currently on 20 th iteration\n",
      "Currently on 30 th iteration\n",
      "Currently on 40 th iteration\n"
     ]
    }
   ],
   "source": [
    "data = pd.read_csv(\"data/Coding2_Data3.csv\")\n",
    "Y = data['Y']\n",
    "X = data.drop(['Y'], axis = 1)\n",
    "print(X.shape, Y.shape)\n",
    "\n",
    "scalerX = StandardScaler()\n",
    "scalerX.fit(X)\n",
    "newX = pd.DataFrame(scalerX.transform(X))\n",
    "\n",
    "y_mean = Y.mean()\n",
    "y_std = Y.std()\n",
    "newY = pd.Series((Y - y_mean) / y_std)\n",
    "\n",
    "error_data2 = get_test_errors(newX, newY, num_iters=50)"
   ]
  },
  {
   "cell_type": "code",
   "execution_count": 415,
   "id": "2e304ecb-71d2-41cc-99cd-c48ac802f8de",
   "metadata": {},
   "outputs": [
    {
     "data": {
      "text/plain": [
       "<Axes: xlabel='model_type', ylabel='error'>"
      ]
     },
     "execution_count": 415,
     "metadata": {},
     "output_type": "execute_result"
    },
    {
     "data": {
      "image/png": "[encoded data removed]",
      "text/plain": [
       "<Figure size 640x480 with 1 Axes>"
      ]
     },
     "metadata": {},
     "output_type": "display_data"
    }
   ],
   "source": [
    "import seaborn as sns\n",
    "\n",
    "sns.stripplot(data=error_data2, x=\"model_type\", y=\"error\")"
   ]
  }
 ],
 "metadata": {
  "kernelspec": {
   "display_name": "Python 3 (ipykernel)",
   "language": "python",
   "name": "python3"
  },
  "language_info": {
   "codemirror_mode": {
    "name": "ipython",
    "version": 3
   },
   "file_extension": ".py",
   "mimetype": "text/x-python",
   "name": "python",
   "nbconvert_exporter": "python",
   "pygments_lexer": "ipython3",
   "version": "3.11.3"
  }
 },
 "nbformat": 4,
 "nbformat_minor": 5
}
